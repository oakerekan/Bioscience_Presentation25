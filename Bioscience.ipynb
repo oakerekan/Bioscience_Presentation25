{
 "cells": [
  {
   "cell_type": "markdown",
   "id": "383c6798",
   "metadata": {},
   "source": [
    "# 🐍 Python Setup & Tooling\n",
    "\n",
    "This notebook covers:\n",
    "- **Installing Python 3.x**: Anaconda vs. venv  \n",
    "- **IDEs & Editors**: VS Code, PyCharm, JupyterLab  \n",
    "- **Package Management**: pip vs. conda  \n"
   ]
  },
  {
   "cell_type": "markdown",
   "id": "7232746e",
   "metadata": {},
   "source": [
    "## 1. Checking Your Current Python\n",
    "\n",
    "Run this cell to see what Python you have on your PATH:\n"
   ]
  },
  {
   "cell_type": "code",
   "execution_count": null,
   "id": "143de2eb",
   "metadata": {},
   "outputs": [],
   "source": [
    "!python --version\n",
    "!which python   # Linux/macOS\n",
    "!where python   # Windows\n"
   ]
  },
  {
   "cell_type": "markdown",
   "id": "d8563628",
   "metadata": {},
   "source": [
    "### 1a. If you want Anaconda (all batteries included)\n",
    "\n",
    "1. Download from https://www.anaconda.com/products/distribution   \n",
    "2. Follow the installer wizard.  \n",
    "3. Open **Anaconda Prompt** (Windows) or your shell (macOS/Linux) and verify:\n"
   ]
  },
  {
   "cell_type": "code",
   "execution_count": null,
   "id": "8a6da1ff",
   "metadata": {},
   "outputs": [],
   "source": [
    "!conda --version\n",
    "!python --version\n"
   ]
  },
  {
   "cell_type": "markdown",
   "id": "e9fb8b94",
   "metadata": {},
   "source": [
    "### 1b. If you prefer a lightweight venv\n",
    "\n",
    "Create a virtual environment in your project folder:\n"
   ]
  },
  {
   "cell_type": "code",
   "execution_count": null,
   "id": "1e358fee",
   "metadata": {},
   "outputs": [],
   "source": [
    "!python -m venv myenv\n"
   ]
  },
  {
   "cell_type": "code",
   "execution_count": null,
   "id": "c3cc39b5",
   "metadata": {},
   "outputs": [],
   "source": [
    "# macOS / Linux\n",
    "# !source myenv/bin/activate\n",
    "\n",
    "# Windows PowerShell\n",
    "!myenv\\Scripts\\Activate.ps1\n"
   ]
  },
  {
   "cell_type": "code",
   "execution_count": null,
   "id": "517e78e7",
   "metadata": {},
   "outputs": [],
   "source": [
    "!which python   # should point inside myenv\n",
    "!pip --version\n"
   ]
  },
  {
   "cell_type": "markdown",
   "id": "95b4be63",
   "metadata": {},
   "source": [
    "## 2. IDEs & Editors\n",
    "\n",
    "### 2a. VS Code\n",
    "```python\n",
    "# from within Jupyter you can even launch VS Code in this folder:\n",
    "import subprocess\n",
    "subprocess.run([\"code\", \".\"])\n"
   ]
  },
  {
   "cell_type": "code",
   "execution_count": 7,
   "id": "bd4d15dc",
   "metadata": {},
   "outputs": [
    {
     "name": "stdout",
     "output_type": "stream",
     "text": [
      "^C\n"
     ]
    }
   ],
   "source": [
    "# If not already installed:\n",
    "!pip install jupyterlab   # or: conda install -c conda-forge jupyterlab\n",
    "# Launch:\n",
    "!jupyter lab\n"
   ]
  },
  {
   "cell_type": "markdown",
   "id": "9e92c31e",
   "metadata": {},
   "source": [
    "## 3. Managing Packages: pip vs. conda\n",
    "\n",
    "### 3a. pip (works in any venv/Anaconda env)\n",
    "```bash\n",
    "!pip install numpy pandas matplotlib\n",
    "!pip list\n"
   ]
  },
  {
   "cell_type": "markdown",
   "id": "d5a78638",
   "metadata": {},
   "source": []
  },
  {
   "cell_type": "code",
   "execution_count": null,
   "id": "7b6da2a6",
   "metadata": {},
   "outputs": [],
   "source": [
    "# From your terminal (outside the notebook):\n",
    "#   Launch the classic notebook:\n",
    "!jupyter notebook\n",
    "\n",
    "#   Or the newer Lab interface:\n",
    "!jupyter lab\n"
   ]
  },
  {
   "cell_type": "code",
   "execution_count": null,
   "id": "2f1f2f8c",
   "metadata": {},
   "outputs": [],
   "source": [
    "# From your shell:\n",
    "python   # starts plain REPL\n",
    "ipython  # richer prompt with autocomplete, %magic commands, etc.\n"
   ]
  },
  {
   "cell_type": "code",
   "execution_count": null,
   "id": "1281dc58",
   "metadata": {},
   "outputs": [],
   "source": [
    "# plain python subprocess\n",
    "import subprocess\n",
    "print(\"python REPL banner:\")\n",
    "print(subprocess.run([\"python\",\"--version\"], capture_output=True).stdout.decode())\n",
    "\n",
    "# IPython magic inside notebook:\n",
    "print(\"IPython info:\")\n",
    "get_ipython().run_line_magic(\"whos\", \"\")\n"
   ]
  },
  {
   "cell_type": "code",
   "execution_count": null,
   "id": "d3365ca0",
   "metadata": {},
   "outputs": [
    {
     "name": "stdout",
     "output_type": "stream",
     "text": [
      "Requirement already satisfied: biopython in c:\\users\\pbrin\\anaconda3\\lib\\site-packages (1.85)\n",
      "Requirement already satisfied: numpy in c:\\users\\pbrin\\anaconda3\\lib\\site-packages (from biopython) (1.26.4)\n",
      "Protein translation: MAIVMGR*KGAR*\n"
     ]
    }
   ],
   "source": [
    "# 1) Install if needed:\n",
    "!pip install biopython\n",
    "\n",
    "from Bio.Seq import Seq\n",
    "from Bio import SeqIO\n",
    "\n",
    "# Simple translation demo\n",
    "dna = Seq(\"ATGGCCATTGTAATGGGCCGCTGAAAGGGTGCCCGATAG\")\n",
    "print(\"Protein translation:\", dna.translate())\n",
    "\n",
    "# 2) Parse a FASTA file in one line (assumes you uploaded sample.fasta)\n",
    "records = list(SeqIO.parse(\"sample.fasta\", \"fasta\"))\n",
    "print(f\"Found {len(records)} sequences. First ID:\", records[0].id)\n",
    "\n"
   ]
  },
  {
   "cell_type": "markdown",
   "id": "60a825d6",
   "metadata": {},
   "source": [
    "# 📐 Whitespace & Indentation Rules\n",
    "\n",
    "Python uses indentation (spaces or tabs) to define code blocks. Mixing tabs and spaces will lead to errors—PEP 8 recommends **4 spaces per indent level**.\n",
    "\n",
    "```python\n",
    "# WRONG: inconsistent indentation leads to an IndentationError\n",
    "def greet(name):\n",
    "    if name:\n",
    "      print(f\"Hello, {name}\")  # 6 spaces here\n",
    "    else:\n",
    "        print(\"Hello, world\")  # 8 spaces here\n",
    "\n",
    "# → IndentationError: unindent does not match any outer indentation level\n",
    "\n",
    "# CORRECT: consistent 4-space indentation\n",
    "def greet(name):\n",
    "    if name:\n",
    "        print(f\"Hello, {name}\")\n",
    "    else:\n",
    "        print(\"Hello, world\")\n"
   ]
  },
  {
   "cell_type": "code",
   "execution_count": 10,
   "id": "6a787039",
   "metadata": {},
   "outputs": [],
   "source": [
    "# This is a single-line comment\n",
    "\n",
    "def add(a, b):\n",
    "    \"\"\"\n",
    "    add(a, b) → int or float\n",
    "    Returns the sum of a and b.\n",
    "    \"\"\"\n",
    "    return a + b\n",
    "\n",
    "result = add(2, 3)  # inline comment explaining this call\n"
   ]
  },
  {
   "cell_type": "code",
   "execution_count": 11,
   "id": "1156058a",
   "metadata": {},
   "outputs": [
    {
     "name": "stdout",
     "output_type": "stream",
     "text": [
      "21 [1, 2, 3, 4, 5, 6] Python allows you to split long strings across multiple lines inside parentheses.\n"
     ]
    }
   ],
   "source": [
    "# 1. Explicit continuation\n",
    "total = 1 + 2 + 3 + \\\n",
    "        4 + 5 + 6\n",
    "\n",
    "# 2. Implicit continuation in parentheses\n",
    "numbers = [\n",
    "    1, 2, 3,\n",
    "    4, 5, 6\n",
    "]\n",
    "\n",
    "message = (\n",
    "    \"Python allows you to split long strings \"\n",
    "    \"across multiple lines inside parentheses.\"\n",
    ")\n",
    "\n",
    "# Both forms execute without errors\n",
    "print(total, numbers, message)\n"
   ]
  },
  {
   "cell_type": "markdown",
   "id": "0f6338b4",
   "metadata": {},
   "source": [
    "# 🏷️ Variables & Naming Conventions\n",
    "\n",
    "Python is dynamically typed—you don’t declare variable types up front. By convention (PEP 8):\n",
    "\n",
    "- **Variables** use `snake_case`  \n",
    "- **Constants** use `UPPER_SNAKE_CASE`  \n",
    "- A single leading underscore (`_var`) signals “internal use”  \n",
    "- A double leading underscore (`__var`) triggers name-mangling in classes  \n"
   ]
  },
  {
   "cell_type": "code",
   "execution_count": 12,
   "id": "6a814118",
   "metadata": {},
   "outputs": [
    {
     "name": "stdout",
     "output_type": "stream",
     "text": [
      "10 <class 'int'>\n",
      "ten <class 'str'>\n",
      "Alice Smith\n",
      "Attempt 1/5\n",
      "Attempt 2/5\n",
      "Attempt 3/5\n",
      "Attempt 4/5\n",
      "Attempt 5/5\n",
      "Internal: 123\n",
      "Mangling gives: xyz\n"
     ]
    }
   ],
   "source": [
    "# Dynamic typing: no declarations needed\n",
    "value = 10            # initially an integer\n",
    "print(value, type(value))\n",
    "\n",
    "value = \"ten\"         # now a string\n",
    "print(value, type(value))\n",
    "\n",
    "\n",
    "# PEP 8 naming: snake_case for variables\n",
    "first_name = \"Alice\"\n",
    "last_name  = \"Smith\"\n",
    "full_name  = first_name + \" \" + last_name\n",
    "print(full_name)\n",
    "\n",
    "\n",
    "# Constants: UPPER_SNAKE_CASE\n",
    "MAX_RETRIES     = 5\n",
    "TIMEOUT_SECONDS = 30.0\n",
    "\n",
    "for attempt in range(MAX_RETRIES):\n",
    "    print(f\"Attempt {attempt+1}/{MAX_RETRIES}\")\n",
    "\n",
    "\n",
    "# Underscore prefixes\n",
    "_internal_counter = 0   # for module-internal use\n",
    "\n",
    "class Example:\n",
    "    def __init__(self, value):\n",
    "        self._value = value       # “protected” by convention\n",
    "        self.__secret = \"xyz\"     # name-mangled to _Example__secret\n",
    "\n",
    "e = Example(123)\n",
    "print(\"Internal:\", e._value)\n",
    "# print(e.__secret)        # AttributeError\n",
    "print(\"Mangling gives:\", e._Example__secret)\n"
   ]
  },
  {
   "cell_type": "markdown",
   "id": "3e1528b8",
   "metadata": {},
   "source": [
    "# 🧮 Basic Data Types\n",
    "\n",
    "Python provides several built-in primitive types. In this section we’ll cover:\n",
    "\n",
    "- **Integers (`int`)**  \n",
    "- **Floating-point numbers (`float`)**  \n",
    "- **Strings (`str`)**  \n",
    "- **Booleans (`bool`)**  \n",
    "- **Type inspection** with `type()` and `isinstance()`\n",
    "\n",
    "---\n",
    "\n",
    "\n"
   ]
  },
  {
   "cell_type": "code",
   "execution_count": 15,
   "id": "922ae8fb",
   "metadata": {},
   "outputs": [
    {
     "name": "stdout",
     "output_type": "stream",
     "text": [
      "42 → <class 'int'>\n",
      "3.14159 → <class 'float'>\n",
      "Hello, bioscientist! → <class 'str'>\n",
      "True False → <class 'bool'>\n"
     ]
    }
   ],
   "source": [
    "# 1. Integers\n",
    "x = 42\n",
    "print(x, \"→\", type(x))   # <class 'int'>\n",
    "\n",
    "# 2. Floating-point numbers\n",
    "pi = 3.14159\n",
    "print(pi, \"→\", type(pi)) # <class 'float'>\n",
    "\n",
    "# 3. Strings\n",
    "greeting = \"Hello, bioscientist!\"\n",
    "print(greeting, \"→\", type(greeting))  # <class 'str'>\n",
    "\n",
    "# 4. Booleans\n",
    "flag_true = True\n",
    "flag_false = False\n",
    "print(flag_true, flag_false, \"→\", type(flag_true))  # <class 'bool'>"
   ]
  },
  {
   "cell_type": "code",
   "execution_count": 16,
   "id": "ded93968",
   "metadata": {},
   "outputs": [
    {
     "name": "stdout",
     "output_type": "stream",
     "text": [
      "True\n",
      "True\n",
      "True\n",
      "True\n",
      "True\n",
      "True\n",
      "5.0\n"
     ]
    }
   ],
   "source": [
    "# 🔍 Type Checking\n",
    "x =42\n",
    "# Using type()\n",
    "print(type(x) == int)      # True\n",
    "print(type(pi) == float)   # True\n",
    "\n",
    "# Using isinstance()\n",
    "print(isinstance(x, int))        # True\n",
    "print(isinstance(pi, (int, float)))  # True, covers both types\n",
    "print(isinstance(greeting, str)) # True\n",
    "print(isinstance(flag_true, bool))  # True\n",
    "\n",
    "# You can also guard operations:\n",
    "def safe_divide(a, b):\n",
    "    if not (isinstance(a, (int, float)) and isinstance(b, (int, float))):\n",
    "        raise TypeError(\"Both operands must be numeric\")\n",
    "    return a / b\n",
    "\n",
    "print(safe_divide(10, 2))\n",
    "# print(safe_divide(\"10\", 2))  # would raise TypeError\n"
   ]
  },
  {
   "cell_type": "markdown",
   "id": "56dab4e6",
   "metadata": {},
   "source": [
    "# 🔢 Arithmetic Operators\n",
    "\n",
    "Demonstrates the basic arithmetic operations in Python.\n",
    "\n",
    "```python\n",
    "a = 10\n",
    "b = 3\n",
    "\n",
    "# Addition\n",
    "print(\"a + b =\", a + b)        # 13\n",
    "\n",
    "# Subtraction\n",
    "print(\"a - b =\", a - b)        # 7\n",
    "\n",
    "# Multiplication\n",
    "print(\"a * b =\", a * b)        # 30\n",
    "\n",
    "# True division\n",
    "print(\"a / b =\", a / b)        # 3.3333333333333335\n",
    "\n",
    "# Floor division\n",
    "print(\"a // b =\", a // b)      # 3\n",
    "\n",
    "# Modulus (remainder)\n",
    "print(\"a % b =\", a % b)        # 1\n",
    "\n",
    "# Exponentiation\n",
    "print(\"a ** b =\", a ** b)      # 1000\n"
   ]
  },
  {
   "cell_type": "markdown",
   "id": "f31e4660",
   "metadata": {},
   "source": [
    "# Comparison Operators\n"
   ]
  },
  {
   "cell_type": "code",
   "execution_count": 17,
   "id": "74e1417e",
   "metadata": {},
   "outputs": [
    {
     "name": "stdout",
     "output_type": "stream",
     "text": [
      "x == y: False\n",
      "x != y: True\n",
      "x < y: True\n",
      "x > y: False\n",
      "x <= y: True\n",
      "x >= y: False\n"
     ]
    }
   ],
   "source": [
    "x = 5\n",
    "y = 8\n",
    "\n",
    "print(\"x == y:\", x == y)   # False\n",
    "print(\"x != y:\", x != y)   # True\n",
    "print(\"x < y:\",  x < y)    # True\n",
    "print(\"x > y:\",  x > y)    # False\n",
    "print(\"x <= y:\", x <= y)   # True\n",
    "print(\"x >= y:\", x >= y)   # False\n"
   ]
  },
  {
   "cell_type": "markdown",
   "id": "739782f4",
   "metadata": {},
   "source": [
    "# Logical Operators"
   ]
  },
  {
   "cell_type": "code",
   "execution_count": 18,
   "id": "f9df646a",
   "metadata": {},
   "outputs": [
    {
     "name": "stdout",
     "output_type": "stream",
     "text": [
      "p and q: False\n",
      "p or q: True\n",
      "not p: False\n",
      "Can enter club: True\n"
     ]
    }
   ],
   "source": [
    "p = True\n",
    "q = False\n",
    "\n",
    "# AND: True only if both are True\n",
    "print(\"p and q:\", p and q)   # False\n",
    "\n",
    "# OR: True if at least one is True\n",
    "print(\"p or q:\",  p or q)    # True\n",
    "\n",
    "# NOT: inverts the boolean\n",
    "print(\"not p:\",   not p)     # False\n",
    "\n",
    "# Combining comparisons\n",
    "age = 25\n",
    "has_permission = True\n",
    "\n",
    "can_enter = (age >= 18) and has_permission\n",
    "print(\"Can enter club:\", can_enter)  # True\n"
   ]
  },
  {
   "cell_type": "markdown",
   "id": "2df80191",
   "metadata": {},
   "source": [
    "# 🛑 Control Flow: Conditional Statements\n",
    "\n",
    "Python’s branching syntax lets you execute different code paths based on conditions.\n",
    "\n",
    "---\n",
    "\n",
    "## 1. `if` / `elif` / `else` Syntax\n",
    "\n",
    "```python\n",
    "if condition1:\n",
    "    # executed when condition1 is True\n",
    "elif condition2:\n",
    "    # executed when condition2 is True (and condition1 was False)\n",
    "else:\n",
    "    # executed when neither condition1 nor condition2 is True\n"
   ]
  },
  {
   "cell_type": "markdown",
   "id": "37a9cc3d",
   "metadata": {},
   "source": [
    "## 2. Chained Comparisons"
   ]
  },
  {
   "cell_type": "code",
   "execution_count": 20,
   "id": "3addda66",
   "metadata": {},
   "outputs": [],
   "source": [
    "systolic = 128\n",
    "# Check if systolic blood pressure is in the “elevated” range\n",
    "if 120 <= systolic < 130:\n",
    "    category = \"Elevated\"\n"
   ]
  },
  {
   "cell_type": "markdown",
   "id": "97f8c58f",
   "metadata": {},
   "source": [
    "## 3. Example: Classifying Blood Pressure Categories"
   ]
  },
  {
   "cell_type": "code",
   "execution_count": 21,
   "id": "e623db9c",
   "metadata": {},
   "outputs": [
    {
     "name": "stdout",
     "output_type": "stream",
     "text": [
      "Patient 1: Normal\n",
      "Patient 2: Elevated\n",
      "Patient 3: Hypertension Stage 1\n",
      "Patient 4: Hypertension Stage 2\n"
     ]
    }
   ],
   "source": [
    "def classify_bp(systolic, diastolic):\n",
    "    \"\"\"\n",
    "    Classify blood pressure based on AHA guidelines:\n",
    "      - Normal:            <120 and <80\n",
    "      - Elevated:         120–129 and <80\n",
    "      - Hypertension Stage 1: 130–139 or 80–89\n",
    "      - Hypertension Stage 2: ≥140 or ≥90\n",
    "    \"\"\"\n",
    "    if systolic < 120 and diastolic < 80:\n",
    "        return \"Normal\"\n",
    "    elif 120 <= systolic < 130 and diastolic < 80:\n",
    "        return \"Elevated\"\n",
    "    elif (130 <= systolic < 140) or (80 <= diastolic < 90):\n",
    "        return \"Hypertension Stage 1\"\n",
    "    elif systolic >= 140 or diastolic >= 90:\n",
    "        return \"Hypertension Stage 2\"\n",
    "    else:\n",
    "        return \"Consult Clinician\"\n",
    "\n",
    "# Example usage\n",
    "patients = [\n",
    "    {\"id\": 1, \"systolic\": 118, \"diastolic\": 76},\n",
    "    {\"id\": 2, \"systolic\": 125, \"diastolic\": 78},\n",
    "    {\"id\": 3, \"systolic\": 135, \"diastolic\": 85},\n",
    "    {\"id\": 4, \"systolic\": 145, \"diastolic\": 95},\n",
    "]\n",
    "\n",
    "for p in patients:\n",
    "    cat = classify_bp(p[\"systolic\"], p[\"diastolic\"])\n",
    "    print(f\"Patient {p['id']}: {cat}\")\n"
   ]
  },
  {
   "cell_type": "markdown",
   "id": "784e9daf",
   "metadata": {},
   "source": [
    "# 🔄 Control Flow: Loops\n",
    "\n",
    "Python provides two main looping constructs—`for` and `while`—plus loop controls like `break` and `continue`. Below are healthcare-focused examples.\n",
    "\n",
    "---\n",
    "\n",
    "## 1. `for` Loops Over Sequences\n",
    "\n",
    "Iterate through lists, tuples, or other iterable collections.\n",
    "\n",
    "```python\n",
    "# Example: Calculate BMI for a list of patients\n",
    "patients = [\n",
    "    {\"id\": 1, \"weight_kg\": 70, \"height_m\": 1.75},\n",
    "    {\"id\": 2, \"weight_kg\": 82, \"height_m\": 1.68},\n",
    "    {\"id\": 3, \"weight_kg\": 55, \"height_m\": 1.60},\n",
    "]\n",
    "\n",
    "for p in patients:\n",
    "    bmi = p[\"weight_kg\"] / (p[\"height_m\"] ** 2)\n",
    "    print(f\"Patient {p['id']} BMI: {bmi:.1f}\")\n"
   ]
  },
  {
   "cell_type": "markdown",
   "id": "eabbef13",
   "metadata": {},
   "source": [
    "# 2. while Loops & Loop Control (break, continue)\n",
    "#### Use while when you don’t know up front how many iterations you need. \n",
    "#### Use break to exit early, and continue to skip to the next iteration."
   ]
  },
  {
   "cell_type": "code",
   "execution_count": 22,
   "id": "481b1ad0",
   "metadata": {},
   "outputs": [
    {
     "name": "stdout",
     "output_type": "stream",
     "text": [
      "Reading 2: 102 mg/dL\n",
      "Reading 3: 110 mg/dL\n",
      "Reading 4: 130 mg/dL\n",
      "Reading 5: 145 mg/dL\n",
      "⚠️ Alert: Glucose threshold exceeded — stop monitoring.\n"
     ]
    }
   ],
   "source": [
    "# Example: Monitor a rising glucose level until it hits a threshold\n",
    "glucose_readings = [95, 102, 110, 130, 145, 160]\n",
    "threshold = 140\n",
    "\n",
    "i = 0\n",
    "while i < len(glucose_readings):\n",
    "    level = glucose_readings[i]\n",
    "    if level < 100:\n",
    "        # skip “normal” readings\n",
    "        i += 1\n",
    "        continue\n",
    "    print(f\"Reading {i+1}: {level} mg/dL\")\n",
    "    if level >= threshold:\n",
    "        print(\"⚠️ Alert: Glucose threshold exceeded — stop monitoring.\")\n",
    "        break\n",
    "    i += 1\n"
   ]
  },
  {
   "cell_type": "markdown",
   "id": "a7b5cd0d",
   "metadata": {},
   "source": [
    "## 3. Iterating Over Dictionary Items"
   ]
  },
  {
   "cell_type": "code",
   "execution_count": 23,
   "id": "ebc797ef",
   "metadata": {},
   "outputs": [
    {
     "name": "stdout",
     "output_type": "stream",
     "text": [
      "Alice: HbA1c=6.2 → OK\n",
      "Bob: HbA1c=7.8 → Review\n",
      "Cara: HbA1c=5.9 → OK\n"
     ]
    }
   ],
   "source": [
    "# Example: Print each patient’s latest test result\n",
    "test_results = {\n",
    "    \"Alice\": {\"HbA1c\": 6.2, \"Cholesterol\": 190},\n",
    "    \"Bob\":   {\"HbA1c\": 7.8, \"Cholesterol\": 220},\n",
    "    \"Cara\":  {\"HbA1c\": 5.9, \"Cholesterol\": 180},\n",
    "}\n",
    "\n",
    "for name, labs in test_results.items():\n",
    "    hba1c = labs[\"HbA1c\"]\n",
    "    status = \"OK\" if hba1c < 7.0 else \"Review\"\n",
    "    print(f\"{name}: HbA1c={hba1c} → {status}\")\n"
   ]
  },
  {
   "cell_type": "markdown",
   "id": "b749e921",
   "metadata": {},
   "source": [
    "# 🛠️ Function Definitions with `def`\n",
    "\n",
    "## 1. The `def` Keyword, Parameters & Return Values\n",
    "\n",
    "Use `def` to define a function. Inside the parentheses you list **parameters**, and use `return` to send back a value.\n",
    "\n",
    "```python\n",
    "def seq_length(sequence):\n",
    "    \"\"\"\n",
    "    seq_length(sequence) → int\n",
    "    Returns the length of the input sequence.\n",
    "    \"\"\"\n",
    "    return len(sequence)\n",
    "\n",
    "# Example\n",
    "dna = \"ATGCGTAC\"\n",
    "print(\"Length:\", seq_length(dna))   # Length: 8\n"
   ]
  },
  {
   "cell_type": "markdown",
   "id": "0848a804",
   "metadata": {},
   "source": [
    "## 2. Default & Keyword Arguments"
   ]
  },
  {
   "cell_type": "markdown",
   "id": "8ec59d2b",
   "metadata": {},
   "source": []
  },
  {
   "cell_type": "code",
   "execution_count": 24,
   "id": "cf1764b1",
   "metadata": {},
   "outputs": [
    {
     "name": "stdout",
     "output_type": "stream",
     "text": [
      "8\n",
      "6\n",
      "4\n"
     ]
    }
   ],
   "source": [
    "def seq_length(sequence, include_gaps=True):\n",
    "    \"\"\"\n",
    "    seq_length(sequence, include_gaps=True) → int\n",
    "    If include_gaps is False, gap characters ('-') are ignored.\n",
    "    \"\"\"\n",
    "    if include_gaps:\n",
    "        return len(sequence)\n",
    "    else:\n",
    "        return sum(1 for base in sequence if base != '-')\n",
    "\n",
    "# 1) Using the default (include gaps)\n",
    "print(seq_length(\"ATG-C-TA\"))                 # 8\n",
    "\n",
    "# 2) Positional override\n",
    "print(seq_length(\"ATG-C-TA\", False))          # 6\n",
    "\n",
    "# 3) Keyword override (order-independent)\n",
    "print(seq_length(sequence=\"A--TGC\", include_gaps=False))  # 4\n"
   ]
  },
  {
   "cell_type": "markdown",
   "id": "1f008b5a",
   "metadata": {},
   "source": [
    "# 3. Positional vs. Keyword Arguments\n",
    "Positional: Passed in the order parameters are defined\n",
    "\n",
    "Keyword: param_name=value, can be in any order"
   ]
  },
  {
   "cell_type": "code",
   "execution_count": 25,
   "id": "53473214",
   "metadata": {},
   "outputs": [
    {
     "name": "stdout",
     "output_type": "stream",
     "text": [
      "exon_2:ATGC\n",
      "exon_2:ATGC\n"
     ]
    }
   ],
   "source": [
    "def annotate(seq, tag=\"gene\", version=1):\n",
    "    return f\"{tag}_{version}:{seq}\"\n",
    "\n",
    "# Positional: tag=\"exon\", version=2\n",
    "print(annotate(\"ATGC\", \"exon\", 2))            \n",
    "\n",
    "# Keyword: swap order\n",
    "print(annotate(seq=\"ATGC\", version=2, tag=\"exon\"))  \n"
   ]
  },
  {
   "cell_type": "markdown",
   "id": "53042c2c",
   "metadata": {},
   "source": [
    "# 🌐 Scope & Side-Effects\n",
    "\n",
    "Understanding variable scope and avoiding unintended side-effects is key to writing reliable analysis code.\n",
    "\n",
    "---\n",
    "\n",
    "## 1. Local vs. Global Variables\n",
    "\n",
    "- **Local variables** live inside a function and vanish when it returns.  \n",
    "- **Global variables** are defined at the module level and accessible anywhere—risky if you accidentally overwrite them.\n",
    "\n",
    "```python\n",
    "# Global variable\n",
    "THRESHOLD = 0.8\n",
    "\n",
    "def classify_measurement(value):\n",
    "    # Local variable ‘threshold’ shadows the global THRESHOLD\n",
    "    threshold = 0.6\n",
    "    if value >= threshold:\n",
    "        return \"High\"\n",
    "    else:\n",
    "        return \"Normal\"\n",
    "\n",
    "print(classify_measurement(0.7))  # Uses local threshold → \"High\"\n",
    "print(THRESHOLD)                  # Global unchanged → 0.8\n"
   ]
  },
  {
   "cell_type": "markdown",
   "id": "7ddd81eb",
   "metadata": {},
   "source": [
    "## 2. The global and nonlocal Keywords\n",
    "global\n",
    "Use sparingly when you truly need to modify a global from inside a function."
   ]
  },
  {
   "cell_type": "code",
   "execution_count": 26,
   "id": "c9540b60",
   "metadata": {},
   "outputs": [
    {
     "name": "stdout",
     "output_type": "stream",
     "text": [
      "1\n"
     ]
    }
   ],
   "source": [
    "counter = 0\n",
    "\n",
    "def increment_global():\n",
    "    global counter\n",
    "    counter += 1   # Modifies the module-level ‘counter’\n",
    "\n",
    "increment_global()\n",
    "print(counter)     # → 1\n"
   ]
  },
  {
   "cell_type": "markdown",
   "id": "44da1a47",
   "metadata": {},
   "source": [
    "nonlocal\n",
    "\n",
    "\n",
    "Inside nested functions, lets you modify a variable in the enclosing (but non-global) scope"
   ]
  },
  {
   "cell_type": "code",
   "execution_count": 27,
   "id": "e8fd905e",
   "metadata": {},
   "outputs": [
    {
     "name": "stdout",
     "output_type": "stream",
     "text": [
      "1\n",
      "2\n"
     ]
    }
   ],
   "source": [
    "def tracker():\n",
    "    count = 0\n",
    "    def step():\n",
    "        nonlocal count\n",
    "        count += 1\n",
    "        return count\n",
    "    return step\n",
    "\n",
    "step_fn = tracker()\n",
    "print(step_fn())  # → 1\n",
    "print(step_fn())  # → 2\n"
   ]
  },
  {
   "cell_type": "markdown",
   "id": "3be283ed",
   "metadata": {},
   "source": [
    "## 3. Avoiding Side-Effects in Analyses\n",
    "Prefer pure functions that take inputs and return outputs without touching globals.\n",
    "\n",
    "Pass state explicitly (e.g., dataframes, thresholds) rather than relying on hidden module variables.\n",
    "\n",
    "Immutable data patterns (don’t modify lists/dicts in place) reduce bugs in pipelines."
   ]
  },
  {
   "cell_type": "code",
   "execution_count": 28,
   "id": "cd2a293e",
   "metadata": {},
   "outputs": [
    {
     "name": "stdout",
     "output_type": "stream",
     "text": [
      "[] ['sample1']\n"
     ]
    }
   ],
   "source": [
    "# BAD: modifies the global list in place\n",
    "results = []\n",
    "def record(result):\n",
    "    results.append(result)\n",
    "\n",
    "# GOOD: returns a new list, no side-effects\n",
    "def record_safe(results_list, result):\n",
    "    return results_list + [result]\n",
    "\n",
    "base = []\n",
    "new1 = record_safe(base, \"sample1\")\n",
    "print(base, new1)  # base unchanged; new1 contains sample1\n"
   ]
  },
  {
   "cell_type": "markdown",
   "id": "e4b8ded7",
   "metadata": {},
   "source": [
    "# 📋 Lists: Creation & Operations\n",
    "\n",
    "Python **lists** are ordered, mutable collections—ideal for storing sample IDs, DNA/RNA sequences, patient codes, and more.\n",
    "\n",
    "---\n",
    "\n",
    "## 1. Creation: `[]` vs. `list()`\n",
    "\n"
   ]
  },
  {
   "cell_type": "code",
   "execution_count": 33,
   "id": "386f3111",
   "metadata": {},
   "outputs": [],
   "source": [
    "\n",
    "# Empty lists\n",
    "sample_ids   = []            # literal notation\n",
    "sequences    = list()        # constructor notation\n",
    "\n",
    "# Pre-populated list\n",
    "sample_ids   = [\"S1\", \"S2\", \"S3\"]\n",
    "sequences    = [\"ATGCGT\", \"GGCTA-A\", \"TTAGGC\"]\n"
   ]
  },
  {
   "cell_type": "markdown",
   "id": "47b111ac",
   "metadata": {},
   "source": [
    "## 2. Indexing & Slicing"
   ]
  },
  {
   "cell_type": "code",
   "execution_count": 34,
   "id": "00778ad1",
   "metadata": {},
   "outputs": [],
   "source": [
    "# Indexing (0-based)\n",
    "first_sample   = sample_ids[0]       # \"S1\"\n",
    "last_sequence  = sequences[-1]       # \"TTAGGC\"\n",
    "\n",
    "# Slicing: [start:stop:step]\n",
    "# Get the middle two samples\n",
    "mid_samples    = sample_ids[1:3]     # [\"S2\", \"S3\"]\n",
    "\n",
    "# Get every other base in a sequence\n",
    "subseq         = sequences[0][::2]   # from \"ATGCGT\" → \"AGT\"\n"
   ]
  },
  {
   "cell_type": "markdown",
   "id": "dcf2453e",
   "metadata": {},
   "source": [
    "# 3. Appending & Extending"
   ]
  },
  {
   "cell_type": "code",
   "execution_count": 35,
   "id": "6b0f28d1",
   "metadata": {},
   "outputs": [],
   "source": [
    "# Append: add one item\n",
    "sample_ids.append(\"S4\")\n",
    "# sample_ids → [\"S1\", \"S2\", \"S3\", \"S4\"]\n",
    "\n",
    "# Extend: add multiple items\n",
    "new_samples = [\"S5\", \"S6\"]\n",
    "sample_ids.extend(new_samples)\n",
    "# sample_ids → [\"S1\", \"S2\", \"S3\", \"S4\", \"S5\", \"S6\"]\n"
   ]
  },
  {
   "cell_type": "markdown",
   "id": "d43c0475",
   "metadata": {},
   "source": [
    "## 4. Use Case: Storing Sequences or Sample IDs\n",
    "Imagine you’re loading FASTA headers or clinical sample codes:"
   ]
  },
  {
   "cell_type": "code",
   "execution_count": 36,
   "id": "586771ae",
   "metadata": {},
   "outputs": [
    {
     "ename": "FileNotFoundError",
     "evalue": "[Errno 2] No such file or directory: 'patients.fasta'",
     "output_type": "error",
     "traceback": [
      "\u001b[1;31m---------------------------------------------------------------------------\u001b[0m",
      "\u001b[1;31mFileNotFoundError\u001b[0m                         Traceback (most recent call last)",
      "Cell \u001b[1;32mIn[36], line 5\u001b[0m\n\u001b[0;32m      2\u001b[0m fasta_headers \u001b[38;5;241m=\u001b[39m []\n\u001b[0;32m      4\u001b[0m \u001b[38;5;66;03m# As you parse each record:\u001b[39;00m\n\u001b[1;32m----> 5\u001b[0m \u001b[38;5;28;01mfor\u001b[39;00m record \u001b[38;5;129;01min\u001b[39;00m SeqIO\u001b[38;5;241m.\u001b[39mparse(\u001b[38;5;124m\"\u001b[39m\u001b[38;5;124mpatients.fasta\u001b[39m\u001b[38;5;124m\"\u001b[39m, \u001b[38;5;124m\"\u001b[39m\u001b[38;5;124mfasta\u001b[39m\u001b[38;5;124m\"\u001b[39m):\n\u001b[0;32m      6\u001b[0m     fasta_headers\u001b[38;5;241m.\u001b[39mappend(record\u001b[38;5;241m.\u001b[39mid)\n\u001b[0;32m      8\u001b[0m \u001b[38;5;28mprint\u001b[39m(\u001b[38;5;124m\"\u001b[39m\u001b[38;5;124mLoaded headers:\u001b[39m\u001b[38;5;124m\"\u001b[39m, fasta_headers)\n",
      "File \u001b[1;32mc:\\Users\\pbrin\\anaconda3\\Lib\\site-packages\\Bio\\SeqIO\\__init__.py:626\u001b[0m, in \u001b[0;36mparse\u001b[1;34m(handle, format, alphabet)\u001b[0m\n\u001b[0;32m    624\u001b[0m iterator_generator \u001b[38;5;241m=\u001b[39m _FormatToIterator\u001b[38;5;241m.\u001b[39mget(\u001b[38;5;28mformat\u001b[39m)\n\u001b[0;32m    625\u001b[0m \u001b[38;5;28;01mif\u001b[39;00m iterator_generator:\n\u001b[1;32m--> 626\u001b[0m     \u001b[38;5;28;01mreturn\u001b[39;00m iterator_generator(handle)\n\u001b[0;32m    627\u001b[0m \u001b[38;5;28;01mif\u001b[39;00m \u001b[38;5;28mformat\u001b[39m \u001b[38;5;129;01min\u001b[39;00m AlignIO\u001b[38;5;241m.\u001b[39m_FormatToIterator:\n\u001b[0;32m    628\u001b[0m     \u001b[38;5;66;03m# Use Bio.AlignIO to read in the alignments\u001b[39;00m\n\u001b[0;32m    629\u001b[0m     \u001b[38;5;28;01mreturn\u001b[39;00m (r \u001b[38;5;28;01mfor\u001b[39;00m alignment \u001b[38;5;129;01min\u001b[39;00m AlignIO\u001b[38;5;241m.\u001b[39mparse(handle, \u001b[38;5;28mformat\u001b[39m) \u001b[38;5;28;01mfor\u001b[39;00m r \u001b[38;5;129;01min\u001b[39;00m alignment)\n",
      "File \u001b[1;32mc:\\Users\\pbrin\\anaconda3\\Lib\\site-packages\\Bio\\SeqIO\\FastaIO.py:196\u001b[0m, in \u001b[0;36mFastaIterator.__init__\u001b[1;34m(self, source, alphabet)\u001b[0m\n\u001b[0;32m    194\u001b[0m \u001b[38;5;28;01mif\u001b[39;00m alphabet \u001b[38;5;129;01mis\u001b[39;00m \u001b[38;5;129;01mnot\u001b[39;00m \u001b[38;5;28;01mNone\u001b[39;00m:\n\u001b[0;32m    195\u001b[0m     \u001b[38;5;28;01mraise\u001b[39;00m \u001b[38;5;167;01mValueError\u001b[39;00m(\u001b[38;5;124m\"\u001b[39m\u001b[38;5;124mThe alphabet argument is no longer supported\u001b[39m\u001b[38;5;124m\"\u001b[39m)\n\u001b[1;32m--> 196\u001b[0m \u001b[38;5;28msuper\u001b[39m()\u001b[38;5;241m.\u001b[39m\u001b[38;5;21m__init__\u001b[39m(source, fmt\u001b[38;5;241m=\u001b[39m\u001b[38;5;124m\"\u001b[39m\u001b[38;5;124mFasta\u001b[39m\u001b[38;5;124m\"\u001b[39m)\n\u001b[0;32m    197\u001b[0m \u001b[38;5;28;01mtry\u001b[39;00m:\n\u001b[0;32m    198\u001b[0m     line \u001b[38;5;241m=\u001b[39m \u001b[38;5;28mnext\u001b[39m(\u001b[38;5;28mself\u001b[39m\u001b[38;5;241m.\u001b[39mstream)\n",
      "File \u001b[1;32mc:\\Users\\pbrin\\anaconda3\\Lib\\site-packages\\Bio\\SeqIO\\Interfaces.py:81\u001b[0m, in \u001b[0;36mSequenceIterator.__init__\u001b[1;34m(self, source, alphabet, fmt)\u001b[0m\n\u001b[0;32m     79\u001b[0m \u001b[38;5;28;01mif\u001b[39;00m \u001b[38;5;28misinstance\u001b[39m(source, _PathLikeTypes):\n\u001b[0;32m     80\u001b[0m     mode \u001b[38;5;241m=\u001b[39m modes[\u001b[38;5;241m0\u001b[39m]\n\u001b[1;32m---> 81\u001b[0m     \u001b[38;5;28mself\u001b[39m\u001b[38;5;241m.\u001b[39mstream \u001b[38;5;241m=\u001b[39m \u001b[38;5;28mopen\u001b[39m(source, \u001b[38;5;124m\"\u001b[39m\u001b[38;5;124mr\u001b[39m\u001b[38;5;124m\"\u001b[39m \u001b[38;5;241m+\u001b[39m mode)\n\u001b[0;32m     82\u001b[0m \u001b[38;5;28;01melse\u001b[39;00m:\n\u001b[0;32m     83\u001b[0m     value \u001b[38;5;241m=\u001b[39m source\u001b[38;5;241m.\u001b[39mread(\u001b[38;5;241m0\u001b[39m)\n",
      "\u001b[1;31mFileNotFoundError\u001b[0m: [Errno 2] No such file or directory: 'patients.fasta'"
     ]
    }
   ],
   "source": [
    "# Start with no records\n",
    "fasta_headers = []\n",
    "\n",
    "# As you parse each record:\n",
    "for record in SeqIO.parse(\"patients.fasta\", \"fasta\"):\n",
    "    fasta_headers.append(record.id)\n",
    "\n",
    "print(\"Loaded headers:\", fasta_headers)\n"
   ]
  },
  {
   "cell_type": "code",
   "execution_count": 37,
   "id": "c091cf97",
   "metadata": {},
   "outputs": [
    {
     "name": "stdout",
     "output_type": "stream",
     "text": [
      "All visits: ['V001', 'V002', 'V003', 'V004']\n"
     ]
    }
   ],
   "source": [
    "visit_log = []\n",
    "visit_log.extend([\"V001\", \"V002\", \"V003\"])   # batch‐load past visits\n",
    "visit_log.append(\"V004\")                     # new visit\n",
    "\n",
    "print(\"All visits:\", visit_log)\n"
   ]
  },
  {
   "cell_type": "markdown",
   "id": "e3d43afc",
   "metadata": {},
   "source": [
    "# 🔒 Tuples: Creation & Immutability\n",
    "\n",
    "Tuples are ordered, immutable sequences—ideal for packing together fixed sets of values (e.g., genome annotation fields).\n",
    "\n",
    "---\n",
    "\n",
    "## 1. Creation: `()` vs. Comma Syntax\n",
    "\n",
    "```python\n",
    "# Empty tuple\n",
    "empty = ()\n",
    "\n",
    "# Single‐element tuple: comma is required\n",
    "one = (42,)      \n",
    "also_one = 42,  # parentheses optional with comma\n",
    "\n",
    "# Multi‐element tuple\n",
    "coords = (10.0, 20.0, 30.0)\n",
    "labels = \"geneA\", \"geneB\", \"geneC\"  \n"
   ]
  },
  {
   "cell_type": "markdown",
   "id": "49187b8f",
   "metadata": {},
   "source": [
    "## 2. Immutability & Function Returns\n",
    "Once created, you cannot change (add/remove) elements in a tuple—attempts raise TypeError.\n",
    "\n",
    "Great for returning multiple values from functions without worrying they’ll be altered."
   ]
  },
  {
   "cell_type": "code",
   "execution_count": 38,
   "id": "ff016cdb",
   "metadata": {},
   "outputs": [
    {
     "name": "stdout",
     "output_type": "stream",
     "text": [
      "('S100', '2025-05-17', 48)\n"
     ]
    }
   ],
   "source": [
    "def get_sample_metadata(sample_id):\n",
    "    \"\"\"\n",
    "    Returns a tuple of (ID, collection_date, patient_age)\n",
    "    \"\"\"\n",
    "    # imagine we look these up in a database…\n",
    "    return sample_id, \"2025-05-17\", 48\n",
    "\n",
    "meta = get_sample_metadata(\"S100\")\n",
    "print(meta)             # ('S100', '2025-05-17', 48)\n",
    "\n",
    "# meta[1] = \"2025-05-18\"  \n",
    "# TypeError: 'tuple' object does not support item assignment\n"
   ]
  },
  {
   "cell_type": "markdown",
   "id": "43d6e4bf",
   "metadata": {},
   "source": [
    "## 3. Use Case: Fixed Annotation Fields\n",
    "Suppose each record must carry an unchangeable set of attributes:"
   ]
  },
  {
   "cell_type": "code",
   "execution_count": 39,
   "id": "9ef4fc42",
   "metadata": {},
   "outputs": [
    {
     "name": "stdout",
     "output_type": "stream",
     "text": [
      "BRCA1 spans 100123-100456 on strand +\n",
      "tumor_suppressor\n"
     ]
    }
   ],
   "source": [
    "# Define a tuple for annotation schema: (gene_name, start, end, strand)\n",
    "annotation = (\"BRCA1\", 100123, 100456, \"+\")\n",
    "\n",
    "# Later, you can unpack safely\n",
    "gene, start_pos, end_pos, strand = annotation\n",
    "print(f\"{gene} spans {start_pos}-{end_pos} on strand {strand}\")\n",
    "\n",
    "# Use tuple as a dictionary key for quick lookups\n",
    "annotations = { annotation: \"tumor_suppressor\" }\n",
    "print(annotations[(\"BRCA1\", 100123, 100456, \"+\")])\n"
   ]
  },
  {
   "cell_type": "markdown",
   "id": "64bb3e0c",
   "metadata": {},
   "source": [
    "# 🌿 Sets: Creation & Operations\n",
    "\n",
    "Python **sets** are unordered collections of **unique** elements—perfect for deduplicating data like k-mers or gene identifiers.\n",
    "\n",
    "---\n",
    "\n",
    "## 1. Creation: `{}` vs. `set()`\n",
    "\n",
    "```python\n",
    "\n"
   ]
  },
  {
   "cell_type": "code",
   "execution_count": 40,
   "id": "3e6a9274",
   "metadata": {},
   "outputs": [
    {
     "name": "stdout",
     "output_type": "stream",
     "text": [
      "<class 'set'>\n",
      "{'TP53', 'BRCA1', 'EGFR'}\n"
     ]
    }
   ],
   "source": [
    "# Empty set: must use set(), {} creates an empty dict\n",
    "empty_set = set()\n",
    "print(type(empty_set))  # <class 'set'>\n",
    "\n",
    "# Pre-populated set literal\n",
    "genes = {\"BRCA1\", \"TP53\", \"EGFR\", \"BRCA1\"}  \n",
    "print(genes)            # {'EGFR', 'BRCA1', 'TP53'} — duplicates auto-removed"
   ]
  },
  {
   "cell_type": "markdown",
   "id": "4a7ffa55",
   "metadata": {},
   "source": [
    "## 2. Uniqueness & Basic Operations"
   ]
  },
  {
   "cell_type": "code",
   "execution_count": 41,
   "id": "1e13156f",
   "metadata": {},
   "outputs": [
    {
     "name": "stdout",
     "output_type": "stream",
     "text": [
      "{'TP53', 'BRCA1', 'MYC'}\n",
      "True\n",
      "False\n"
     ]
    }
   ],
   "source": [
    "# Adding and removing\n",
    "genes.add(\"MYC\")\n",
    "genes.discard(\"EGFR\")    # no error if element not present\n",
    "print(genes)\n",
    "\n",
    "# Membership test\n",
    "print(\"TP53\" in genes)   # True\n",
    "print(\"EGFR\" in genes)   # False\n"
   ]
  },
  {
   "cell_type": "markdown",
   "id": "c8d0b297",
   "metadata": {},
   "source": [
    "## 3. Set Operations: Union, Intersection, Difference\n"
   ]
  },
  {
   "cell_type": "markdown",
   "id": "16f3d547",
   "metadata": {},
   "source": []
  },
  {
   "cell_type": "code",
   "execution_count": 42,
   "id": "dea9e3f5",
   "metadata": {},
   "outputs": [
    {
     "name": "stdout",
     "output_type": "stream",
     "text": [
      "Union   : {'TP53', 'BRCA1', 'EGFR', 'PTEN', 'MYC'}\n",
      "Intersection: {'TP53'}\n",
      "Difference  : {'BRCA1', 'MYC'}\n"
     ]
    }
   ],
   "source": [
    "sample1_genes = {\"BRCA1\", \"TP53\", \"MYC\"}\n",
    "sample2_genes = {\"TP53\", \"EGFR\", \"PTEN\"}\n",
    "\n",
    "# Union: all unique genes across both samples\n",
    "all_genes = sample1_genes | sample2_genes\n",
    "# or sample1_genes.union(sample2_genes)\n",
    "print(\"Union   :\", all_genes)\n",
    "\n",
    "# Intersection: genes common to both\n",
    "common_genes = sample1_genes & sample2_genes\n",
    "# or sample1_genes.intersection(sample2_genes)\n",
    "print(\"Intersection:\", common_genes)\n",
    "\n",
    "# Difference: genes in sample1 but not in sample2\n",
    "unique_to_sample1 = sample1_genes - sample2_genes\n",
    "# or sample1_genes.difference(sample2_genes)\n",
    "print(\"Difference  :\", unique_to_sample1)\n"
   ]
  },
  {
   "cell_type": "markdown",
   "id": "7bd59170",
   "metadata": {},
   "source": [
    "## 4. Use Case: Unique k-mers from a DNA Sequence\n"
   ]
  },
  {
   "cell_type": "code",
   "execution_count": 43,
   "id": "c0fcf886",
   "metadata": {},
   "outputs": [
    {
     "name": "stdout",
     "output_type": "stream",
     "text": [
      "Unique 3-mers: {'ACC', 'GCG', 'TGA', 'CGA', 'CCT', 'GAC', 'ATG', 'CTG', 'GAT', 'TGC'}\n"
     ]
    }
   ],
   "source": [
    "def get_kmers(sequence, k):\n",
    "    \"\"\"\n",
    "    Returns the set of unique k-mers of length k in the sequence.\n",
    "    \"\"\"\n",
    "    kmers = set()\n",
    "    for i in range(len(sequence) - k + 1):\n",
    "        kmers.add(sequence[i : i + k])\n",
    "    return kmers\n",
    "\n",
    "dna_seq = \"ATGCGATGACCTG\"\n",
    "k = 3\n",
    "unique_kmers = get_kmers(dna_seq, k)\n",
    "print(f\"Unique {k}-mers:\", unique_kmers)\n"
   ]
  },
  {
   "cell_type": "markdown",
   "id": "78a8531b",
   "metadata": {},
   "source": [
    "# 🗺️ Dictionaries: Creation & Operations\n",
    "\n",
    "Python **dictionaries** are unordered, mutable mappings from **keys** to **values**—ideal for storing things like gene expression profiles.\n",
    "\n",
    "---\n",
    "\n",
    "## 1. Creation: `{key: value}` vs. `dict()`\n",
    "\n",
    "```python\n",
    "\n"
   ]
  },
  {
   "cell_type": "code",
   "execution_count": 45,
   "id": "059af333",
   "metadata": {},
   "outputs": [],
   "source": [
    "# 1a. Literal notation\n",
    "gene_expression = {\n",
    "    'TP53': 12.5,\n",
    "    'BRCA1': 8.3,\n",
    "    'EGFR': 15.2\n",
    "}\n",
    "\n",
    "# 1b. Empty dict and then populate\n",
    "gene_expression = dict()\n",
    "gene_expression['TP53'] = 12.5\n",
    "gene_expression['BRCA1'] = 8.3"
   ]
  },
  {
   "cell_type": "markdown",
   "id": "e8758121",
   "metadata": {},
   "source": [
    "## 2. Accessing & Updating"
   ]
  },
  {
   "cell_type": "code",
   "execution_count": 46,
   "id": "5cc7b66c",
   "metadata": {},
   "outputs": [
    {
     "name": "stdout",
     "output_type": "stream",
     "text": [
      "TP53 expression: 12.5\n",
      "JAK2 expression (default 0.0): 0.0\n"
     ]
    }
   ],
   "source": [
    "# Access a value by key\n",
    "tp53_expr = gene_expression['TP53']\n",
    "print(f\"TP53 expression: {tp53_expr}\")\n",
    "\n",
    "# You can also use .get() to avoid KeyError, with a default\n",
    "jak2_expr = gene_expression.get('JAK2', 0.0)\n",
    "print(f\"JAK2 expression (default 0.0): {jak2_expr}\")\n",
    "\n",
    "# Update an existing entry\n",
    "gene_expression['BRCA1'] = 9.1\n",
    "\n",
    "# Add a new gene\n",
    "gene_expression['PTEN'] = 4.7\n",
    "\n",
    "# Bulk update with another dict\n",
    "gene_expression.update({'MYC': 22.4, 'EGFR': 16.0})\n"
   ]
  },
  {
   "cell_type": "markdown",
   "id": "afbdf6a2",
   "metadata": {},
   "source": [
    "## 3. Iteration"
   ]
  },
  {
   "cell_type": "code",
   "execution_count": 47,
   "id": "8db12d18",
   "metadata": {},
   "outputs": [
    {
     "name": "stdout",
     "output_type": "stream",
     "text": [
      "TP53 12.5\n",
      "BRCA1 9.1\n",
      "PTEN 4.7\n",
      "MYC 22.4\n",
      "EGFR 16.0\n",
      "TP53: 12.5 → high\n",
      "BRCA1: 9.1 → normal\n",
      "PTEN: 4.7 → normal\n",
      "MYC: 22.4 → high\n",
      "EGFR: 16.0 → high\n",
      "Expression value: 12.5\n",
      "Expression value: 9.1\n",
      "Expression value: 4.7\n",
      "Expression value: 22.4\n",
      "Expression value: 16.0\n"
     ]
    }
   ],
   "source": [
    "# 3a. Iterate over keys\n",
    "for gene in gene_expression:\n",
    "    print(gene, gene_expression[gene])\n",
    "\n",
    "# 3b. Iterate over key–value pairs\n",
    "for gene, expr in gene_expression.items():\n",
    "    status = 'high' if expr > 10 else 'normal'\n",
    "    print(f\"{gene}: {expr:.1f} → {status}\")\n",
    "\n",
    "# 3c. Iterate over values only\n",
    "for expr in gene_expression.values():\n",
    "    print(f\"Expression value: {expr:.1f}\")\n"
   ]
  },
  {
   "cell_type": "markdown",
   "id": "44f859e0",
   "metadata": {},
   "source": [
    "## 4. Use Case: Filtering Highly Expressed Genes"
   ]
  },
  {
   "cell_type": "code",
   "execution_count": 48,
   "id": "41fa3ee1",
   "metadata": {},
   "outputs": [
    {
     "name": "stdout",
     "output_type": "stream",
     "text": [
      "Highly expressed genes:\n",
      " - TP53: 12.5 TPM\n",
      " - MYC: 22.4 TPM\n",
      " - EGFR: 16.0 TPM\n"
     ]
    }
   ],
   "source": [
    "# Suppose we want genes with expression > 10 TPM\n",
    "highly_expressed = {\n",
    "    gene: expr\n",
    "    for gene, expr in gene_expression.items()\n",
    "    if expr > 10.0\n",
    "}\n",
    "\n",
    "print(\"Highly expressed genes:\")\n",
    "for gene, expr in highly_expressed.items():\n",
    "    print(f\" - {gene}: {expr:.1f} TPM\")\n"
   ]
  },
  {
   "cell_type": "markdown",
   "id": "1c066883",
   "metadata": {},
   "source": []
  }
 ],
 "metadata": {
  "kernelspec": {
   "display_name": "base",
   "language": "python",
   "name": "python3"
  },
  "language_info": {
   "codemirror_mode": {
    "name": "ipython",
    "version": 3
   },
   "file_extension": ".py",
   "mimetype": "text/x-python",
   "name": "python",
   "nbconvert_exporter": "python",
   "pygments_lexer": "ipython3",
   "version": "3.12.7"
  }
 },
 "nbformat": 4,
 "nbformat_minor": 5
}
