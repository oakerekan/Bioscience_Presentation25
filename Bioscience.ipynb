{
 "cells": [
  {
   "cell_type": "markdown",
   "id": "383c6798",
   "metadata": {},
   "source": [
    "\n",
    "Code Book for the Presentation Python use at "
   ]
  },
  {
   "cell_type": "code",
   "execution_count": null,
   "id": "2cb08472",
   "metadata": {
    "vscode": {
     "languageId": "plaintext"
    }
   },
   "outputs": [],
   "source": []
  },
  {
   "cell_type": "code",
   "execution_count": null,
   "id": "8a6da1ff",
   "metadata": {
    "vscode": {
     "languageId": "plaintext"
    }
   },
   "outputs": [],
   "source": []
  }
 ],
 "metadata": {
  "language_info": {
   "name": "python"
  }
 },
 "nbformat": 4,
 "nbformat_minor": 5
}
