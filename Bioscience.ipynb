{
 "cells": [
  {
   "cell_type": "markdown",
   "id": "383c6798",
   "metadata": {},
   "source": [
    "# 🐍 Python Setup & Tooling\n",
    "\n",
    "This notebook covers:\n",
    "- **Installing Python 3.x**: Anaconda vs. venv  \n",
    "- **IDEs & Editors**: VS Code, PyCharm, JupyterLab  \n",
    "- **Package Management**: pip vs. conda  \n"
   ]
  },
  {
   "cell_type": "markdown",
   "id": "7232746e",
   "metadata": {},
   "source": [
    "## 1. Checking Your Current Python\n",
    "\n",
    "Run this cell to see what Python you have on your PATH:\n"
   ]
  },
  {
   "cell_type": "code",
   "execution_count": null,
   "id": "143de2eb",
   "metadata": {},
   "outputs": [],
   "source": [
    "!python --version\n",
    "!which python   # Linux/macOS\n",
    "!where python   # Windows\n"
   ]
  },
  {
   "cell_type": "markdown",
   "id": "d8563628",
   "metadata": {},
   "source": [
    "### 1a. If you want Anaconda (all batteries included)\n",
    "\n",
    "1. Download from https://www.anaconda.com/products/distribution   \n",
    "2. Follow the installer wizard.  \n",
    "3. Open **Anaconda Prompt** (Windows) or your shell (macOS/Linux) and verify:\n"
   ]
  },
  {
   "cell_type": "code",
   "execution_count": null,
   "id": "8a6da1ff",
   "metadata": {},
   "outputs": [],
   "source": [
    "!conda --version\n",
    "!python --version\n"
   ]
  },
  {
   "cell_type": "markdown",
   "id": "e9fb8b94",
   "metadata": {},
   "source": [
    "### 1b. If you prefer a lightweight venv\n",
    "\n",
    "Create a virtual environment in your project folder:\n"
   ]
  },
  {
   "cell_type": "code",
   "execution_count": null,
   "id": "1e358fee",
   "metadata": {},
   "outputs": [],
   "source": [
    "!python -m venv myenv\n"
   ]
  },
  {
   "cell_type": "code",
   "execution_count": null,
   "id": "c3cc39b5",
   "metadata": {},
   "outputs": [],
   "source": [
    "# macOS / Linux\n",
    "# !source myenv/bin/activate\n",
    "\n",
    "# Windows PowerShell\n",
    "!myenv\\Scripts\\Activate.ps1\n"
   ]
  },
  {
   "cell_type": "code",
   "execution_count": null,
   "id": "517e78e7",
   "metadata": {},
   "outputs": [],
   "source": [
    "!which python   # should point inside myenv\n",
    "!pip --version\n"
   ]
  },
  {
   "cell_type": "markdown",
   "id": "95b4be63",
   "metadata": {},
   "source": [
    "## 2. IDEs & Editors\n",
    "\n",
    "### 2a. VS Code\n",
    "```python\n",
    "# from within Jupyter you can even launch VS Code in this folder:\n",
    "import subprocess\n",
    "subprocess.run([\"code\", \".\"])\n"
   ]
  },
  {
   "cell_type": "code",
   "execution_count": 7,
   "id": "bd4d15dc",
   "metadata": {},
   "outputs": [
    {
     "name": "stdout",
     "output_type": "stream",
     "text": [
      "^C\n"
     ]
    }
   ],
   "source": [
    "# If not already installed:\n",
    "!pip install jupyterlab   # or: conda install -c conda-forge jupyterlab\n",
    "# Launch:\n",
    "!jupyter lab\n"
   ]
  },
  {
   "cell_type": "markdown",
   "id": "9e92c31e",
   "metadata": {},
   "source": [
    "## 3. Managing Packages: pip vs. conda\n",
    "\n",
    "### 3a. pip (works in any venv/Anaconda env)\n",
    "```bash\n",
    "!pip install numpy pandas matplotlib\n",
    "!pip list\n"
   ]
  },
  {
   "cell_type": "markdown",
   "id": "d5a78638",
   "metadata": {},
   "source": []
  },
  {
   "cell_type": "code",
   "execution_count": null,
   "id": "7b6da2a6",
   "metadata": {},
   "outputs": [],
   "source": [
    "# From your terminal (outside the notebook):\n",
    "#   Launch the classic notebook:\n",
    "!jupyter notebook\n",
    "\n",
    "#   Or the newer Lab interface:\n",
    "!jupyter lab\n"
   ]
  },
  {
   "cell_type": "code",
   "execution_count": null,
   "id": "2f1f2f8c",
   "metadata": {},
   "outputs": [],
   "source": [
    "# From your shell:\n",
    "python   # starts plain REPL\n",
    "ipython  # richer prompt with autocomplete, %magic commands, etc.\n"
   ]
  },
  {
   "cell_type": "code",
   "execution_count": null,
   "id": "1281dc58",
   "metadata": {},
   "outputs": [],
   "source": [
    "# plain python subprocess\n",
    "import subprocess\n",
    "print(\"python REPL banner:\")\n",
    "print(subprocess.run([\"python\",\"--version\"], capture_output=True).stdout.decode())\n",
    "\n",
    "# IPython magic inside notebook:\n",
    "print(\"IPython info:\")\n",
    "get_ipython().run_line_magic(\"whos\", \"\")\n"
   ]
  },
  {
   "cell_type": "code",
   "execution_count": null,
   "id": "d3365ca0",
   "metadata": {},
   "outputs": [
    {
     "name": "stdout",
     "output_type": "stream",
     "text": [
      "Requirement already satisfied: biopython in c:\\users\\pbrin\\anaconda3\\lib\\site-packages (1.85)\n",
      "Requirement already satisfied: numpy in c:\\users\\pbrin\\anaconda3\\lib\\site-packages (from biopython) (1.26.4)\n",
      "Protein translation: MAIVMGR*KGAR*\n"
     ]
    }
   ],
   "source": [
    "# 1) Install if needed:\n",
    "!pip install biopython\n",
    "\n",
    "from Bio.Seq import Seq\n",
    "from Bio import SeqIO\n",
    "\n",
    "# Simple translation demo\n",
    "dna = Seq(\"ATGGCCATTGTAATGGGCCGCTGAAAGGGTGCCCGATAG\")\n",
    "print(\"Protein translation:\", dna.translate())\n",
    "\n",
    "# 2) Parse a FASTA file in one line (assumes you uploaded sample.fasta)\n",
    "records = list(SeqIO.parse(\"sample.fasta\", \"fasta\"))\n",
    "print(f\"Found {len(records)} sequences. First ID:\", records[0].id)\n",
    "\n"
   ]
  },
  {
   "cell_type": "markdown",
   "id": "60a825d6",
   "metadata": {},
   "source": [
    "# 📐 Whitespace & Indentation Rules\n",
    "\n",
    "Python uses indentation (spaces or tabs) to define code blocks. Mixing tabs and spaces will lead to errors—PEP 8 recommends **4 spaces per indent level**.\n",
    "\n",
    "```python\n",
    "# WRONG: inconsistent indentation leads to an IndentationError\n",
    "def greet(name):\n",
    "    if name:\n",
    "      print(f\"Hello, {name}\")  # 6 spaces here\n",
    "    else:\n",
    "        print(\"Hello, world\")  # 8 spaces here\n",
    "\n",
    "# → IndentationError: unindent does not match any outer indentation level\n",
    "\n",
    "# CORRECT: consistent 4-space indentation\n",
    "def greet(name):\n",
    "    if name:\n",
    "        print(f\"Hello, {name}\")\n",
    "    else:\n",
    "        print(\"Hello, world\")\n"
   ]
  },
  {
   "cell_type": "code",
   "execution_count": 10,
   "id": "6a787039",
   "metadata": {},
   "outputs": [],
   "source": [
    "# This is a single-line comment\n",
    "\n",
    "def add(a, b):\n",
    "    \"\"\"\n",
    "    add(a, b) → int or float\n",
    "    Returns the sum of a and b.\n",
    "    \"\"\"\n",
    "    return a + b\n",
    "\n",
    "result = add(2, 3)  # inline comment explaining this call\n"
   ]
  },
  {
   "cell_type": "code",
   "execution_count": 11,
   "id": "1156058a",
   "metadata": {},
   "outputs": [
    {
     "name": "stdout",
     "output_type": "stream",
     "text": [
      "21 [1, 2, 3, 4, 5, 6] Python allows you to split long strings across multiple lines inside parentheses.\n"
     ]
    }
   ],
   "source": [
    "# 1. Explicit continuation\n",
    "total = 1 + 2 + 3 + \\\n",
    "        4 + 5 + 6\n",
    "\n",
    "# 2. Implicit continuation in parentheses\n",
    "numbers = [\n",
    "    1, 2, 3,\n",
    "    4, 5, 6\n",
    "]\n",
    "\n",
    "message = (\n",
    "    \"Python allows you to split long strings \"\n",
    "    \"across multiple lines inside parentheses.\"\n",
    ")\n",
    "\n",
    "# Both forms execute without errors\n",
    "print(total, numbers, message)\n"
   ]
  },
  {
   "cell_type": "markdown",
   "id": "0f6338b4",
   "metadata": {},
   "source": [
    "# 🏷️ Variables & Naming Conventions\n",
    "\n",
    "Python is dynamically typed—you don’t declare variable types up front. By convention (PEP 8):\n",
    "\n",
    "- **Variables** use `snake_case`  \n",
    "- **Constants** use `UPPER_SNAKE_CASE`  \n",
    "- A single leading underscore (`_var`) signals “internal use”  \n",
    "- A double leading underscore (`__var`) triggers name-mangling in classes  \n"
   ]
  },
  {
   "cell_type": "code",
   "execution_count": 12,
   "id": "6a814118",
   "metadata": {},
   "outputs": [
    {
     "name": "stdout",
     "output_type": "stream",
     "text": [
      "10 <class 'int'>\n",
      "ten <class 'str'>\n",
      "Alice Smith\n",
      "Attempt 1/5\n",
      "Attempt 2/5\n",
      "Attempt 3/5\n",
      "Attempt 4/5\n",
      "Attempt 5/5\n",
      "Internal: 123\n",
      "Mangling gives: xyz\n"
     ]
    }
   ],
   "source": [
    "# Dynamic typing: no declarations needed\n",
    "value = 10            # initially an integer\n",
    "print(value, type(value))\n",
    "\n",
    "value = \"ten\"         # now a string\n",
    "print(value, type(value))\n",
    "\n",
    "\n",
    "# PEP 8 naming: snake_case for variables\n",
    "first_name = \"Alice\"\n",
    "last_name  = \"Smith\"\n",
    "full_name  = first_name + \" \" + last_name\n",
    "print(full_name)\n",
    "\n",
    "\n",
    "# Constants: UPPER_SNAKE_CASE\n",
    "MAX_RETRIES     = 5\n",
    "TIMEOUT_SECONDS = 30.0\n",
    "\n",
    "for attempt in range(MAX_RETRIES):\n",
    "    print(f\"Attempt {attempt+1}/{MAX_RETRIES}\")\n",
    "\n",
    "\n",
    "# Underscore prefixes\n",
    "_internal_counter = 0   # for module-internal use\n",
    "\n",
    "class Example:\n",
    "    def __init__(self, value):\n",
    "        self._value = value       # “protected” by convention\n",
    "        self.__secret = \"xyz\"     # name-mangled to _Example__secret\n",
    "\n",
    "e = Example(123)\n",
    "print(\"Internal:\", e._value)\n",
    "# print(e.__secret)        # AttributeError\n",
    "print(\"Mangling gives:\", e._Example__secret)\n"
   ]
  },
  {
   "cell_type": "markdown",
   "id": "3e1528b8",
   "metadata": {},
   "source": [
    "# 🧮 Basic Data Types\n",
    "\n",
    "Python provides several built-in primitive types. In this section we’ll cover:\n",
    "\n",
    "- **Integers (`int`)**  \n",
    "- **Floating-point numbers (`float`)**  \n",
    "- **Strings (`str`)**  \n",
    "- **Booleans (`bool`)**  \n",
    "- **Type inspection** with `type()` and `isinstance()`\n",
    "\n",
    "---\n",
    "\n",
    "\n"
   ]
  },
  {
   "cell_type": "code",
   "execution_count": 15,
   "id": "922ae8fb",
   "metadata": {},
   "outputs": [
    {
     "name": "stdout",
     "output_type": "stream",
     "text": [
      "42 → <class 'int'>\n",
      "3.14159 → <class 'float'>\n",
      "Hello, bioscientist! → <class 'str'>\n",
      "True False → <class 'bool'>\n"
     ]
    }
   ],
   "source": [
    "# 1. Integers\n",
    "x = 42\n",
    "print(x, \"→\", type(x))   # <class 'int'>\n",
    "\n",
    "# 2. Floating-point numbers\n",
    "pi = 3.14159\n",
    "print(pi, \"→\", type(pi)) # <class 'float'>\n",
    "\n",
    "# 3. Strings\n",
    "greeting = \"Hello, bioscientist!\"\n",
    "print(greeting, \"→\", type(greeting))  # <class 'str'>\n",
    "\n",
    "# 4. Booleans\n",
    "flag_true = True\n",
    "flag_false = False\n",
    "print(flag_true, flag_false, \"→\", type(flag_true))  # <class 'bool'>"
   ]
  },
  {
   "cell_type": "code",
   "execution_count": 16,
   "id": "ded93968",
   "metadata": {},
   "outputs": [
    {
     "name": "stdout",
     "output_type": "stream",
     "text": [
      "True\n",
      "True\n",
      "True\n",
      "True\n",
      "True\n",
      "True\n",
      "5.0\n"
     ]
    }
   ],
   "source": [
    "# 🔍 Type Checking\n",
    "x =42\n",
    "# Using type()\n",
    "print(type(x) == int)      # True\n",
    "print(type(pi) == float)   # True\n",
    "\n",
    "# Using isinstance()\n",
    "print(isinstance(x, int))        # True\n",
    "print(isinstance(pi, (int, float)))  # True, covers both types\n",
    "print(isinstance(greeting, str)) # True\n",
    "print(isinstance(flag_true, bool))  # True\n",
    "\n",
    "# You can also guard operations:\n",
    "def safe_divide(a, b):\n",
    "    if not (isinstance(a, (int, float)) and isinstance(b, (int, float))):\n",
    "        raise TypeError(\"Both operands must be numeric\")\n",
    "    return a / b\n",
    "\n",
    "print(safe_divide(10, 2))\n",
    "# print(safe_divide(\"10\", 2))  # would raise TypeError\n"
   ]
  },
  {
   "cell_type": "markdown",
   "id": "56dab4e6",
   "metadata": {},
   "source": [
    "# 🔢 Arithmetic Operators\n",
    "\n",
    "Demonstrates the basic arithmetic operations in Python.\n",
    "\n",
    "```python\n",
    "a = 10\n",
    "b = 3\n",
    "\n",
    "# Addition\n",
    "print(\"a + b =\", a + b)        # 13\n",
    "\n",
    "# Subtraction\n",
    "print(\"a - b =\", a - b)        # 7\n",
    "\n",
    "# Multiplication\n",
    "print(\"a * b =\", a * b)        # 30\n",
    "\n",
    "# True division\n",
    "print(\"a / b =\", a / b)        # 3.3333333333333335\n",
    "\n",
    "# Floor division\n",
    "print(\"a // b =\", a // b)      # 3\n",
    "\n",
    "# Modulus (remainder)\n",
    "print(\"a % b =\", a % b)        # 1\n",
    "\n",
    "# Exponentiation\n",
    "print(\"a ** b =\", a ** b)      # 1000\n"
   ]
  },
  {
   "cell_type": "markdown",
   "id": "f31e4660",
   "metadata": {},
   "source": [
    "# Comparison Operators\n"
   ]
  },
  {
   "cell_type": "code",
   "execution_count": 17,
   "id": "74e1417e",
   "metadata": {},
   "outputs": [
    {
     "name": "stdout",
     "output_type": "stream",
     "text": [
      "x == y: False\n",
      "x != y: True\n",
      "x < y: True\n",
      "x > y: False\n",
      "x <= y: True\n",
      "x >= y: False\n"
     ]
    }
   ],
   "source": [
    "x = 5\n",
    "y = 8\n",
    "\n",
    "print(\"x == y:\", x == y)   # False\n",
    "print(\"x != y:\", x != y)   # True\n",
    "print(\"x < y:\",  x < y)    # True\n",
    "print(\"x > y:\",  x > y)    # False\n",
    "print(\"x <= y:\", x <= y)   # True\n",
    "print(\"x >= y:\", x >= y)   # False\n"
   ]
  },
  {
   "cell_type": "markdown",
   "id": "739782f4",
   "metadata": {},
   "source": [
    "# Logical Operators"
   ]
  },
  {
   "cell_type": "code",
   "execution_count": 18,
   "id": "f9df646a",
   "metadata": {},
   "outputs": [
    {
     "name": "stdout",
     "output_type": "stream",
     "text": [
      "p and q: False\n",
      "p or q: True\n",
      "not p: False\n",
      "Can enter club: True\n"
     ]
    }
   ],
   "source": [
    "p = True\n",
    "q = False\n",
    "\n",
    "# AND: True only if both are True\n",
    "print(\"p and q:\", p and q)   # False\n",
    "\n",
    "# OR: True if at least one is True\n",
    "print(\"p or q:\",  p or q)    # True\n",
    "\n",
    "# NOT: inverts the boolean\n",
    "print(\"not p:\",   not p)     # False\n",
    "\n",
    "# Combining comparisons\n",
    "age = 25\n",
    "has_permission = True\n",
    "\n",
    "can_enter = (age >= 18) and has_permission\n",
    "print(\"Can enter club:\", can_enter)  # True\n"
   ]
  },
  {
   "cell_type": "markdown",
   "id": "2df80191",
   "metadata": {},
   "source": [
    "# 🛑 Control Flow: Conditional Statements\n",
    "\n",
    "Python’s branching syntax lets you execute different code paths based on conditions.\n",
    "\n",
    "---\n",
    "\n",
    "## 1. `if` / `elif` / `else` Syntax\n",
    "\n",
    "```python\n",
    "if condition1:\n",
    "    # executed when condition1 is True\n",
    "elif condition2:\n",
    "    # executed when condition2 is True (and condition1 was False)\n",
    "else:\n",
    "    # executed when neither condition1 nor condition2 is True\n"
   ]
  },
  {
   "cell_type": "markdown",
   "id": "37a9cc3d",
   "metadata": {},
   "source": [
    "## 2. Chained Comparisons"
   ]
  },
  {
   "cell_type": "code",
   "execution_count": 20,
   "id": "3addda66",
   "metadata": {},
   "outputs": [],
   "source": [
    "systolic = 128\n",
    "# Check if systolic blood pressure is in the “elevated” range\n",
    "if 120 <= systolic < 130:\n",
    "    category = \"Elevated\"\n"
   ]
  },
  {
   "cell_type": "markdown",
   "id": "97f8c58f",
   "metadata": {},
   "source": [
    "## 3. Example: Classifying Blood Pressure Categories"
   ]
  },
  {
   "cell_type": "code",
   "execution_count": 21,
   "id": "e623db9c",
   "metadata": {},
   "outputs": [
    {
     "name": "stdout",
     "output_type": "stream",
     "text": [
      "Patient 1: Normal\n",
      "Patient 2: Elevated\n",
      "Patient 3: Hypertension Stage 1\n",
      "Patient 4: Hypertension Stage 2\n"
     ]
    }
   ],
   "source": [
    "def classify_bp(systolic, diastolic):\n",
    "    \"\"\"\n",
    "    Classify blood pressure based on AHA guidelines:\n",
    "      - Normal:            <120 and <80\n",
    "      - Elevated:         120–129 and <80\n",
    "      - Hypertension Stage 1: 130–139 or 80–89\n",
    "      - Hypertension Stage 2: ≥140 or ≥90\n",
    "    \"\"\"\n",
    "    if systolic < 120 and diastolic < 80:\n",
    "        return \"Normal\"\n",
    "    elif 120 <= systolic < 130 and diastolic < 80:\n",
    "        return \"Elevated\"\n",
    "    elif (130 <= systolic < 140) or (80 <= diastolic < 90):\n",
    "        return \"Hypertension Stage 1\"\n",
    "    elif systolic >= 140 or diastolic >= 90:\n",
    "        return \"Hypertension Stage 2\"\n",
    "    else:\n",
    "        return \"Consult Clinician\"\n",
    "\n",
    "# Example usage\n",
    "patients = [\n",
    "    {\"id\": 1, \"systolic\": 118, \"diastolic\": 76},\n",
    "    {\"id\": 2, \"systolic\": 125, \"diastolic\": 78},\n",
    "    {\"id\": 3, \"systolic\": 135, \"diastolic\": 85},\n",
    "    {\"id\": 4, \"systolic\": 145, \"diastolic\": 95},\n",
    "]\n",
    "\n",
    "for p in patients:\n",
    "    cat = classify_bp(p[\"systolic\"], p[\"diastolic\"])\n",
    "    print(f\"Patient {p['id']}: {cat}\")\n"
   ]
  },
  {
   "cell_type": "markdown",
   "id": "784e9daf",
   "metadata": {},
   "source": [
    "# 🔄 Control Flow: Loops\n",
    "\n",
    "Python provides two main looping constructs—`for` and `while`—plus loop controls like `break` and `continue`. Below are healthcare-focused examples.\n",
    "\n",
    "---\n",
    "\n",
    "## 1. `for` Loops Over Sequences\n",
    "\n",
    "Iterate through lists, tuples, or other iterable collections.\n",
    "\n",
    "```python\n",
    "# Example: Calculate BMI for a list of patients\n",
    "patients = [\n",
    "    {\"id\": 1, \"weight_kg\": 70, \"height_m\": 1.75},\n",
    "    {\"id\": 2, \"weight_kg\": 82, \"height_m\": 1.68},\n",
    "    {\"id\": 3, \"weight_kg\": 55, \"height_m\": 1.60},\n",
    "]\n",
    "\n",
    "for p in patients:\n",
    "    bmi = p[\"weight_kg\"] / (p[\"height_m\"] ** 2)\n",
    "    print(f\"Patient {p['id']} BMI: {bmi:.1f}\")\n"
   ]
  },
  {
   "cell_type": "markdown",
   "id": "eabbef13",
   "metadata": {},
   "source": [
    "# 2. while Loops & Loop Control (break, continue)\n",
    "#### Use while when you don’t know up front how many iterations you need. \n",
    "#### Use break to exit early, and continue to skip to the next iteration."
   ]
  },
  {
   "cell_type": "code",
   "execution_count": 22,
   "id": "481b1ad0",
   "metadata": {},
   "outputs": [
    {
     "name": "stdout",
     "output_type": "stream",
     "text": [
      "Reading 2: 102 mg/dL\n",
      "Reading 3: 110 mg/dL\n",
      "Reading 4: 130 mg/dL\n",
      "Reading 5: 145 mg/dL\n",
      "⚠️ Alert: Glucose threshold exceeded — stop monitoring.\n"
     ]
    }
   ],
   "source": [
    "# Example: Monitor a rising glucose level until it hits a threshold\n",
    "glucose_readings = [95, 102, 110, 130, 145, 160]\n",
    "threshold = 140\n",
    "\n",
    "i = 0\n",
    "while i < len(glucose_readings):\n",
    "    level = glucose_readings[i]\n",
    "    if level < 100:\n",
    "        # skip “normal” readings\n",
    "        i += 1\n",
    "        continue\n",
    "    print(f\"Reading {i+1}: {level} mg/dL\")\n",
    "    if level >= threshold:\n",
    "        print(\"⚠️ Alert: Glucose threshold exceeded — stop monitoring.\")\n",
    "        break\n",
    "    i += 1\n"
   ]
  },
  {
   "cell_type": "markdown",
   "id": "a7b5cd0d",
   "metadata": {},
   "source": [
    "## 3. Iterating Over Dictionary Items"
   ]
  },
  {
   "cell_type": "code",
   "execution_count": 23,
   "id": "ebc797ef",
   "metadata": {},
   "outputs": [
    {
     "name": "stdout",
     "output_type": "stream",
     "text": [
      "Alice: HbA1c=6.2 → OK\n",
      "Bob: HbA1c=7.8 → Review\n",
      "Cara: HbA1c=5.9 → OK\n"
     ]
    }
   ],
   "source": [
    "# Example: Print each patient’s latest test result\n",
    "test_results = {\n",
    "    \"Alice\": {\"HbA1c\": 6.2, \"Cholesterol\": 190},\n",
    "    \"Bob\":   {\"HbA1c\": 7.8, \"Cholesterol\": 220},\n",
    "    \"Cara\":  {\"HbA1c\": 5.9, \"Cholesterol\": 180},\n",
    "}\n",
    "\n",
    "for name, labs in test_results.items():\n",
    "    hba1c = labs[\"HbA1c\"]\n",
    "    status = \"OK\" if hba1c < 7.0 else \"Review\"\n",
    "    print(f\"{name}: HbA1c={hba1c} → {status}\")\n"
   ]
  },
  {
   "cell_type": "markdown",
   "id": "b749e921",
   "metadata": {},
   "source": [
    "# 🛠️ Function Definitions with `def`\n",
    "\n",
    "## 1. The `def` Keyword, Parameters & Return Values\n",
    "\n",
    "Use `def` to define a function. Inside the parentheses you list **parameters**, and use `return` to send back a value.\n",
    "\n",
    "```python\n",
    "def seq_length(sequence):\n",
    "    \"\"\"\n",
    "    seq_length(sequence) → int\n",
    "    Returns the length of the input sequence.\n",
    "    \"\"\"\n",
    "    return len(sequence)\n",
    "\n",
    "# Example\n",
    "dna = \"ATGCGTAC\"\n",
    "print(\"Length:\", seq_length(dna))   # Length: 8\n"
   ]
  },
  {
   "cell_type": "markdown",
   "id": "0848a804",
   "metadata": {},
   "source": [
    "## 2. Default & Keyword Arguments"
   ]
  },
  {
   "cell_type": "markdown",
   "id": "8ec59d2b",
   "metadata": {},
   "source": []
  },
  {
   "cell_type": "code",
   "execution_count": 24,
   "id": "cf1764b1",
   "metadata": {},
   "outputs": [
    {
     "name": "stdout",
     "output_type": "stream",
     "text": [
      "8\n",
      "6\n",
      "4\n"
     ]
    }
   ],
   "source": [
    "def seq_length(sequence, include_gaps=True):\n",
    "    \"\"\"\n",
    "    seq_length(sequence, include_gaps=True) → int\n",
    "    If include_gaps is False, gap characters ('-') are ignored.\n",
    "    \"\"\"\n",
    "    if include_gaps:\n",
    "        return len(sequence)\n",
    "    else:\n",
    "        return sum(1 for base in sequence if base != '-')\n",
    "\n",
    "# 1) Using the default (include gaps)\n",
    "print(seq_length(\"ATG-C-TA\"))                 # 8\n",
    "\n",
    "# 2) Positional override\n",
    "print(seq_length(\"ATG-C-TA\", False))          # 6\n",
    "\n",
    "# 3) Keyword override (order-independent)\n",
    "print(seq_length(sequence=\"A--TGC\", include_gaps=False))  # 4\n"
   ]
  },
  {
   "cell_type": "markdown",
   "id": "1f008b5a",
   "metadata": {},
   "source": [
    "# 3. Positional vs. Keyword Arguments\n",
    "Positional: Passed in the order parameters are defined\n",
    "\n",
    "Keyword: param_name=value, can be in any order"
   ]
  },
  {
   "cell_type": "code",
   "execution_count": 25,
   "id": "53473214",
   "metadata": {},
   "outputs": [
    {
     "name": "stdout",
     "output_type": "stream",
     "text": [
      "exon_2:ATGC\n",
      "exon_2:ATGC\n"
     ]
    }
   ],
   "source": [
    "def annotate(seq, tag=\"gene\", version=1):\n",
    "    return f\"{tag}_{version}:{seq}\"\n",
    "\n",
    "# Positional: tag=\"exon\", version=2\n",
    "print(annotate(\"ATGC\", \"exon\", 2))            \n",
    "\n",
    "# Keyword: swap order\n",
    "print(annotate(seq=\"ATGC\", version=2, tag=\"exon\"))  \n"
   ]
  },
  {
   "cell_type": "markdown",
   "id": "53042c2c",
   "metadata": {},
   "source": [
    "# 🌐 Scope & Side-Effects\n",
    "\n",
    "Understanding variable scope and avoiding unintended side-effects is key to writing reliable analysis code.\n",
    "\n",
    "---\n",
    "\n",
    "## 1. Local vs. Global Variables\n",
    "\n",
    "- **Local variables** live inside a function and vanish when it returns.  \n",
    "- **Global variables** are defined at the module level and accessible anywhere—risky if you accidentally overwrite them.\n",
    "\n",
    "```python\n",
    "# Global variable\n",
    "THRESHOLD = 0.8\n",
    "\n",
    "def classify_measurement(value):\n",
    "    # Local variable ‘threshold’ shadows the global THRESHOLD\n",
    "    threshold = 0.6\n",
    "    if value >= threshold:\n",
    "        return \"High\"\n",
    "    else:\n",
    "        return \"Normal\"\n",
    "\n",
    "print(classify_measurement(0.7))  # Uses local threshold → \"High\"\n",
    "print(THRESHOLD)                  # Global unchanged → 0.8\n"
   ]
  },
  {
   "cell_type": "markdown",
   "id": "7ddd81eb",
   "metadata": {},
   "source": [
    "## 2. The global and nonlocal Keywords\n",
    "global\n",
    "Use sparingly when you truly need to modify a global from inside a function."
   ]
  },
  {
   "cell_type": "code",
   "execution_count": 26,
   "id": "c9540b60",
   "metadata": {},
   "outputs": [
    {
     "name": "stdout",
     "output_type": "stream",
     "text": [
      "1\n"
     ]
    }
   ],
   "source": [
    "counter = 0\n",
    "\n",
    "def increment_global():\n",
    "    global counter\n",
    "    counter += 1   # Modifies the module-level ‘counter’\n",
    "\n",
    "increment_global()\n",
    "print(counter)     # → 1\n"
   ]
  },
  {
   "cell_type": "markdown",
   "id": "44da1a47",
   "metadata": {},
   "source": [
    "nonlocal\n",
    "\n",
    "\n",
    "Inside nested functions, lets you modify a variable in the enclosing (but non-global) scope"
   ]
  },
  {
   "cell_type": "code",
   "execution_count": 27,
   "id": "e8fd905e",
   "metadata": {},
   "outputs": [
    {
     "name": "stdout",
     "output_type": "stream",
     "text": [
      "1\n",
      "2\n"
     ]
    }
   ],
   "source": [
    "def tracker():\n",
    "    count = 0\n",
    "    def step():\n",
    "        nonlocal count\n",
    "        count += 1\n",
    "        return count\n",
    "    return step\n",
    "\n",
    "step_fn = tracker()\n",
    "print(step_fn())  # → 1\n",
    "print(step_fn())  # → 2\n"
   ]
  },
  {
   "cell_type": "markdown",
   "id": "3be283ed",
   "metadata": {},
   "source": [
    "## 3. Avoiding Side-Effects in Analyses\n",
    "Prefer pure functions that take inputs and return outputs without touching globals.\n",
    "\n",
    "Pass state explicitly (e.g., dataframes, thresholds) rather than relying on hidden module variables.\n",
    "\n",
    "Immutable data patterns (don’t modify lists/dicts in place) reduce bugs in pipelines."
   ]
  },
  {
   "cell_type": "code",
   "execution_count": 28,
   "id": "cd2a293e",
   "metadata": {},
   "outputs": [
    {
     "name": "stdout",
     "output_type": "stream",
     "text": [
      "[] ['sample1']\n"
     ]
    }
   ],
   "source": [
    "# BAD: modifies the global list in place\n",
    "results = []\n",
    "def record(result):\n",
    "    results.append(result)\n",
    "\n",
    "# GOOD: returns a new list, no side-effects\n",
    "def record_safe(results_list, result):\n",
    "    return results_list + [result]\n",
    "\n",
    "base = []\n",
    "new1 = record_safe(base, \"sample1\")\n",
    "print(base, new1)  # base unchanged; new1 contains sample1\n"
   ]
  },
  {
   "cell_type": "markdown",
   "id": "e4b8ded7",
   "metadata": {},
   "source": [
    "# 📋 Lists: Creation & Operations\n",
    "\n",
    "Python **lists** are ordered, mutable collections—ideal for storing sample IDs, DNA/RNA sequences, patient codes, and more.\n",
    "\n",
    "---\n",
    "\n",
    "## 1. Creation: `[]` vs. `list()`\n",
    "\n"
   ]
  },
  {
   "cell_type": "code",
   "execution_count": 33,
   "id": "386f3111",
   "metadata": {},
   "outputs": [],
   "source": [
    "\n",
    "# Empty lists\n",
    "sample_ids   = []            # literal notation\n",
    "sequences    = list()        # constructor notation\n",
    "\n",
    "# Pre-populated list\n",
    "sample_ids   = [\"S1\", \"S2\", \"S3\"]\n",
    "sequences    = [\"ATGCGT\", \"GGCTA-A\", \"TTAGGC\"]\n"
   ]
  },
  {
   "cell_type": "markdown",
   "id": "47b111ac",
   "metadata": {},
   "source": [
    "## 2. Indexing & Slicing"
   ]
  },
  {
   "cell_type": "code",
   "execution_count": 34,
   "id": "00778ad1",
   "metadata": {},
   "outputs": [],
   "source": [
    "# Indexing (0-based)\n",
    "first_sample   = sample_ids[0]       # \"S1\"\n",
    "last_sequence  = sequences[-1]       # \"TTAGGC\"\n",
    "\n",
    "# Slicing: [start:stop:step]\n",
    "# Get the middle two samples\n",
    "mid_samples    = sample_ids[1:3]     # [\"S2\", \"S3\"]\n",
    "\n",
    "# Get every other base in a sequence\n",
    "subseq         = sequences[0][::2]   # from \"ATGCGT\" → \"AGT\"\n"
   ]
  },
  {
   "cell_type": "markdown",
   "id": "dcf2453e",
   "metadata": {},
   "source": [
    "# 3. Appending & Extending"
   ]
  },
  {
   "cell_type": "code",
   "execution_count": 35,
   "id": "6b0f28d1",
   "metadata": {},
   "outputs": [],
   "source": [
    "# Append: add one item\n",
    "sample_ids.append(\"S4\")\n",
    "# sample_ids → [\"S1\", \"S2\", \"S3\", \"S4\"]\n",
    "\n",
    "# Extend: add multiple items\n",
    "new_samples = [\"S5\", \"S6\"]\n",
    "sample_ids.extend(new_samples)\n",
    "# sample_ids → [\"S1\", \"S2\", \"S3\", \"S4\", \"S5\", \"S6\"]\n"
   ]
  },
  {
   "cell_type": "markdown",
   "id": "d43c0475",
   "metadata": {},
   "source": [
    "## 4. Use Case: Storing Sequences or Sample IDs\n",
    "Imagine you’re loading FASTA headers or clinical sample codes:"
   ]
  },
  {
   "cell_type": "code",
   "execution_count": 36,
   "id": "586771ae",
   "metadata": {},
   "outputs": [
    {
     "ename": "FileNotFoundError",
     "evalue": "[Errno 2] No such file or directory: 'patients.fasta'",
     "output_type": "error",
     "traceback": [
      "\u001b[1;31m---------------------------------------------------------------------------\u001b[0m",
      "\u001b[1;31mFileNotFoundError\u001b[0m                         Traceback (most recent call last)",
      "Cell \u001b[1;32mIn[36], line 5\u001b[0m\n\u001b[0;32m      2\u001b[0m fasta_headers \u001b[38;5;241m=\u001b[39m []\n\u001b[0;32m      4\u001b[0m \u001b[38;5;66;03m# As you parse each record:\u001b[39;00m\n\u001b[1;32m----> 5\u001b[0m \u001b[38;5;28;01mfor\u001b[39;00m record \u001b[38;5;129;01min\u001b[39;00m SeqIO\u001b[38;5;241m.\u001b[39mparse(\u001b[38;5;124m\"\u001b[39m\u001b[38;5;124mpatients.fasta\u001b[39m\u001b[38;5;124m\"\u001b[39m, \u001b[38;5;124m\"\u001b[39m\u001b[38;5;124mfasta\u001b[39m\u001b[38;5;124m\"\u001b[39m):\n\u001b[0;32m      6\u001b[0m     fasta_headers\u001b[38;5;241m.\u001b[39mappend(record\u001b[38;5;241m.\u001b[39mid)\n\u001b[0;32m      8\u001b[0m \u001b[38;5;28mprint\u001b[39m(\u001b[38;5;124m\"\u001b[39m\u001b[38;5;124mLoaded headers:\u001b[39m\u001b[38;5;124m\"\u001b[39m, fasta_headers)\n",
      "File \u001b[1;32mc:\\Users\\pbrin\\anaconda3\\Lib\\site-packages\\Bio\\SeqIO\\__init__.py:626\u001b[0m, in \u001b[0;36mparse\u001b[1;34m(handle, format, alphabet)\u001b[0m\n\u001b[0;32m    624\u001b[0m iterator_generator \u001b[38;5;241m=\u001b[39m _FormatToIterator\u001b[38;5;241m.\u001b[39mget(\u001b[38;5;28mformat\u001b[39m)\n\u001b[0;32m    625\u001b[0m \u001b[38;5;28;01mif\u001b[39;00m iterator_generator:\n\u001b[1;32m--> 626\u001b[0m     \u001b[38;5;28;01mreturn\u001b[39;00m iterator_generator(handle)\n\u001b[0;32m    627\u001b[0m \u001b[38;5;28;01mif\u001b[39;00m \u001b[38;5;28mformat\u001b[39m \u001b[38;5;129;01min\u001b[39;00m AlignIO\u001b[38;5;241m.\u001b[39m_FormatToIterator:\n\u001b[0;32m    628\u001b[0m     \u001b[38;5;66;03m# Use Bio.AlignIO to read in the alignments\u001b[39;00m\n\u001b[0;32m    629\u001b[0m     \u001b[38;5;28;01mreturn\u001b[39;00m (r \u001b[38;5;28;01mfor\u001b[39;00m alignment \u001b[38;5;129;01min\u001b[39;00m AlignIO\u001b[38;5;241m.\u001b[39mparse(handle, \u001b[38;5;28mformat\u001b[39m) \u001b[38;5;28;01mfor\u001b[39;00m r \u001b[38;5;129;01min\u001b[39;00m alignment)\n",
      "File \u001b[1;32mc:\\Users\\pbrin\\anaconda3\\Lib\\site-packages\\Bio\\SeqIO\\FastaIO.py:196\u001b[0m, in \u001b[0;36mFastaIterator.__init__\u001b[1;34m(self, source, alphabet)\u001b[0m\n\u001b[0;32m    194\u001b[0m \u001b[38;5;28;01mif\u001b[39;00m alphabet \u001b[38;5;129;01mis\u001b[39;00m \u001b[38;5;129;01mnot\u001b[39;00m \u001b[38;5;28;01mNone\u001b[39;00m:\n\u001b[0;32m    195\u001b[0m     \u001b[38;5;28;01mraise\u001b[39;00m \u001b[38;5;167;01mValueError\u001b[39;00m(\u001b[38;5;124m\"\u001b[39m\u001b[38;5;124mThe alphabet argument is no longer supported\u001b[39m\u001b[38;5;124m\"\u001b[39m)\n\u001b[1;32m--> 196\u001b[0m \u001b[38;5;28msuper\u001b[39m()\u001b[38;5;241m.\u001b[39m\u001b[38;5;21m__init__\u001b[39m(source, fmt\u001b[38;5;241m=\u001b[39m\u001b[38;5;124m\"\u001b[39m\u001b[38;5;124mFasta\u001b[39m\u001b[38;5;124m\"\u001b[39m)\n\u001b[0;32m    197\u001b[0m \u001b[38;5;28;01mtry\u001b[39;00m:\n\u001b[0;32m    198\u001b[0m     line \u001b[38;5;241m=\u001b[39m \u001b[38;5;28mnext\u001b[39m(\u001b[38;5;28mself\u001b[39m\u001b[38;5;241m.\u001b[39mstream)\n",
      "File \u001b[1;32mc:\\Users\\pbrin\\anaconda3\\Lib\\site-packages\\Bio\\SeqIO\\Interfaces.py:81\u001b[0m, in \u001b[0;36mSequenceIterator.__init__\u001b[1;34m(self, source, alphabet, fmt)\u001b[0m\n\u001b[0;32m     79\u001b[0m \u001b[38;5;28;01mif\u001b[39;00m \u001b[38;5;28misinstance\u001b[39m(source, _PathLikeTypes):\n\u001b[0;32m     80\u001b[0m     mode \u001b[38;5;241m=\u001b[39m modes[\u001b[38;5;241m0\u001b[39m]\n\u001b[1;32m---> 81\u001b[0m     \u001b[38;5;28mself\u001b[39m\u001b[38;5;241m.\u001b[39mstream \u001b[38;5;241m=\u001b[39m \u001b[38;5;28mopen\u001b[39m(source, \u001b[38;5;124m\"\u001b[39m\u001b[38;5;124mr\u001b[39m\u001b[38;5;124m\"\u001b[39m \u001b[38;5;241m+\u001b[39m mode)\n\u001b[0;32m     82\u001b[0m \u001b[38;5;28;01melse\u001b[39;00m:\n\u001b[0;32m     83\u001b[0m     value \u001b[38;5;241m=\u001b[39m source\u001b[38;5;241m.\u001b[39mread(\u001b[38;5;241m0\u001b[39m)\n",
      "\u001b[1;31mFileNotFoundError\u001b[0m: [Errno 2] No such file or directory: 'patients.fasta'"
     ]
    }
   ],
   "source": [
    "# Start with no records\n",
    "fasta_headers = []\n",
    "\n",
    "# As you parse each record:\n",
    "for record in SeqIO.parse(\"patients.fasta\", \"fasta\"):\n",
    "    fasta_headers.append(record.id)\n",
    "\n",
    "print(\"Loaded headers:\", fasta_headers)\n"
   ]
  },
  {
   "cell_type": "code",
   "execution_count": 37,
   "id": "c091cf97",
   "metadata": {},
   "outputs": [
    {
     "name": "stdout",
     "output_type": "stream",
     "text": [
      "All visits: ['V001', 'V002', 'V003', 'V004']\n"
     ]
    }
   ],
   "source": [
    "visit_log = []\n",
    "visit_log.extend([\"V001\", \"V002\", \"V003\"])   # batch‐load past visits\n",
    "visit_log.append(\"V004\")                     # new visit\n",
    "\n",
    "print(\"All visits:\", visit_log)\n"
   ]
  },
  {
   "cell_type": "markdown",
   "id": "e3d43afc",
   "metadata": {},
   "source": [
    "# 🔒 Tuples: Creation & Immutability\n",
    "\n",
    "Tuples are ordered, immutable sequences—ideal for packing together fixed sets of values (e.g., genome annotation fields).\n",
    "\n",
    "---\n",
    "\n",
    "## 1. Creation: `()` vs. Comma Syntax\n",
    "\n",
    "```python\n",
    "# Empty tuple\n",
    "empty = ()\n",
    "\n",
    "# Single‐element tuple: comma is required\n",
    "one = (42,)      \n",
    "also_one = 42,  # parentheses optional with comma\n",
    "\n",
    "# Multi‐element tuple\n",
    "coords = (10.0, 20.0, 30.0)\n",
    "labels = \"geneA\", \"geneB\", \"geneC\"  \n"
   ]
  },
  {
   "cell_type": "markdown",
   "id": "49187b8f",
   "metadata": {},
   "source": [
    "## 2. Immutability & Function Returns\n",
    "Once created, you cannot change (add/remove) elements in a tuple—attempts raise TypeError.\n",
    "\n",
    "Great for returning multiple values from functions without worrying they’ll be altered."
   ]
  },
  {
   "cell_type": "code",
   "execution_count": 38,
   "id": "ff016cdb",
   "metadata": {},
   "outputs": [
    {
     "name": "stdout",
     "output_type": "stream",
     "text": [
      "('S100', '2025-05-17', 48)\n"
     ]
    }
   ],
   "source": [
    "def get_sample_metadata(sample_id):\n",
    "    \"\"\"\n",
    "    Returns a tuple of (ID, collection_date, patient_age)\n",
    "    \"\"\"\n",
    "    # imagine we look these up in a database…\n",
    "    return sample_id, \"2025-05-17\", 48\n",
    "\n",
    "meta = get_sample_metadata(\"S100\")\n",
    "print(meta)             # ('S100', '2025-05-17', 48)\n",
    "\n",
    "# meta[1] = \"2025-05-18\"  \n",
    "# TypeError: 'tuple' object does not support item assignment\n"
   ]
  },
  {
   "cell_type": "markdown",
   "id": "43d6e4bf",
   "metadata": {},
   "source": [
    "## 3. Use Case: Fixed Annotation Fields\n",
    "Suppose each record must carry an unchangeable set of attributes:"
   ]
  },
  {
   "cell_type": "code",
   "execution_count": 39,
   "id": "9ef4fc42",
   "metadata": {},
   "outputs": [
    {
     "name": "stdout",
     "output_type": "stream",
     "text": [
      "BRCA1 spans 100123-100456 on strand +\n",
      "tumor_suppressor\n"
     ]
    }
   ],
   "source": [
    "# Define a tuple for annotation schema: (gene_name, start, end, strand)\n",
    "annotation = (\"BRCA1\", 100123, 100456, \"+\")\n",
    "\n",
    "# Later, you can unpack safely\n",
    "gene, start_pos, end_pos, strand = annotation\n",
    "print(f\"{gene} spans {start_pos}-{end_pos} on strand {strand}\")\n",
    "\n",
    "# Use tuple as a dictionary key for quick lookups\n",
    "annotations = { annotation: \"tumor_suppressor\" }\n",
    "print(annotations[(\"BRCA1\", 100123, 100456, \"+\")])\n"
   ]
  },
  {
   "cell_type": "markdown",
   "id": "64bb3e0c",
   "metadata": {},
   "source": [
    "# 🌿 Sets: Creation & Operations\n",
    "\n",
    "Python **sets** are unordered collections of **unique** elements—perfect for deduplicating data like k-mers or gene identifiers.\n",
    "\n",
    "---\n",
    "\n",
    "## 1. Creation: `{}` vs. `set()`\n",
    "\n",
    "```python\n",
    "\n"
   ]
  },
  {
   "cell_type": "code",
   "execution_count": 40,
   "id": "3e6a9274",
   "metadata": {},
   "outputs": [
    {
     "name": "stdout",
     "output_type": "stream",
     "text": [
      "<class 'set'>\n",
      "{'TP53', 'BRCA1', 'EGFR'}\n"
     ]
    }
   ],
   "source": [
    "# Empty set: must use set(), {} creates an empty dict\n",
    "empty_set = set()\n",
    "print(type(empty_set))  # <class 'set'>\n",
    "\n",
    "# Pre-populated set literal\n",
    "genes = {\"BRCA1\", \"TP53\", \"EGFR\", \"BRCA1\"}  \n",
    "print(genes)            # {'EGFR', 'BRCA1', 'TP53'} — duplicates auto-removed"
   ]
  },
  {
   "cell_type": "markdown",
   "id": "4a7ffa55",
   "metadata": {},
   "source": [
    "## 2. Uniqueness & Basic Operations"
   ]
  },
  {
   "cell_type": "code",
   "execution_count": 41,
   "id": "1e13156f",
   "metadata": {},
   "outputs": [
    {
     "name": "stdout",
     "output_type": "stream",
     "text": [
      "{'TP53', 'BRCA1', 'MYC'}\n",
      "True\n",
      "False\n"
     ]
    }
   ],
   "source": [
    "# Adding and removing\n",
    "genes.add(\"MYC\")\n",
    "genes.discard(\"EGFR\")    # no error if element not present\n",
    "print(genes)\n",
    "\n",
    "# Membership test\n",
    "print(\"TP53\" in genes)   # True\n",
    "print(\"EGFR\" in genes)   # False\n"
   ]
  },
  {
   "cell_type": "markdown",
   "id": "c8d0b297",
   "metadata": {},
   "source": [
    "## 3. Set Operations: Union, Intersection, Difference\n"
   ]
  },
  {
   "cell_type": "markdown",
   "id": "16f3d547",
   "metadata": {},
   "source": []
  },
  {
   "cell_type": "code",
   "execution_count": 42,
   "id": "dea9e3f5",
   "metadata": {},
   "outputs": [
    {
     "name": "stdout",
     "output_type": "stream",
     "text": [
      "Union   : {'TP53', 'BRCA1', 'EGFR', 'PTEN', 'MYC'}\n",
      "Intersection: {'TP53'}\n",
      "Difference  : {'BRCA1', 'MYC'}\n"
     ]
    }
   ],
   "source": [
    "sample1_genes = {\"BRCA1\", \"TP53\", \"MYC\"}\n",
    "sample2_genes = {\"TP53\", \"EGFR\", \"PTEN\"}\n",
    "\n",
    "# Union: all unique genes across both samples\n",
    "all_genes = sample1_genes | sample2_genes\n",
    "# or sample1_genes.union(sample2_genes)\n",
    "print(\"Union   :\", all_genes)\n",
    "\n",
    "# Intersection: genes common to both\n",
    "common_genes = sample1_genes & sample2_genes\n",
    "# or sample1_genes.intersection(sample2_genes)\n",
    "print(\"Intersection:\", common_genes)\n",
    "\n",
    "# Difference: genes in sample1 but not in sample2\n",
    "unique_to_sample1 = sample1_genes - sample2_genes\n",
    "# or sample1_genes.difference(sample2_genes)\n",
    "print(\"Difference  :\", unique_to_sample1)\n"
   ]
  },
  {
   "cell_type": "markdown",
   "id": "7bd59170",
   "metadata": {},
   "source": [
    "## 4. Use Case: Unique k-mers from a DNA Sequence\n"
   ]
  },
  {
   "cell_type": "code",
   "execution_count": 43,
   "id": "c0fcf886",
   "metadata": {},
   "outputs": [
    {
     "name": "stdout",
     "output_type": "stream",
     "text": [
      "Unique 3-mers: {'ACC', 'GCG', 'TGA', 'CGA', 'CCT', 'GAC', 'ATG', 'CTG', 'GAT', 'TGC'}\n"
     ]
    }
   ],
   "source": [
    "def get_kmers(sequence, k):\n",
    "    \"\"\"\n",
    "    Returns the set of unique k-mers of length k in the sequence.\n",
    "    \"\"\"\n",
    "    kmers = set()\n",
    "    for i in range(len(sequence) - k + 1):\n",
    "        kmers.add(sequence[i : i + k])\n",
    "    return kmers\n",
    "\n",
    "dna_seq = \"ATGCGATGACCTG\"\n",
    "k = 3\n",
    "unique_kmers = get_kmers(dna_seq, k)\n",
    "print(f\"Unique {k}-mers:\", unique_kmers)\n"
   ]
  },
  {
   "cell_type": "markdown",
   "id": "78a8531b",
   "metadata": {},
   "source": [
    "# 🗺️ Dictionaries: Creation & Operations\n",
    "\n",
    "Python **dictionaries** are unordered, mutable mappings from **keys** to **values**—ideal for storing things like gene expression profiles.\n",
    "\n",
    "---\n",
    "\n",
    "## 1. Creation: `{key: value}` vs. `dict()`\n",
    "\n",
    "```python\n",
    "\n"
   ]
  },
  {
   "cell_type": "code",
   "execution_count": 45,
   "id": "059af333",
   "metadata": {},
   "outputs": [],
   "source": [
    "# 1a. Literal notation\n",
    "gene_expression = {\n",
    "    'TP53': 12.5,\n",
    "    'BRCA1': 8.3,\n",
    "    'EGFR': 15.2\n",
    "}\n",
    "\n",
    "# 1b. Empty dict and then populate\n",
    "gene_expression = dict()\n",
    "gene_expression['TP53'] = 12.5\n",
    "gene_expression['BRCA1'] = 8.3"
   ]
  },
  {
   "cell_type": "markdown",
   "id": "e8758121",
   "metadata": {},
   "source": [
    "## 2. Accessing & Updating"
   ]
  },
  {
   "cell_type": "code",
   "execution_count": 46,
   "id": "5cc7b66c",
   "metadata": {},
   "outputs": [
    {
     "name": "stdout",
     "output_type": "stream",
     "text": [
      "TP53 expression: 12.5\n",
      "JAK2 expression (default 0.0): 0.0\n"
     ]
    }
   ],
   "source": [
    "# Access a value by key\n",
    "tp53_expr = gene_expression['TP53']\n",
    "print(f\"TP53 expression: {tp53_expr}\")\n",
    "\n",
    "# You can also use .get() to avoid KeyError, with a default\n",
    "jak2_expr = gene_expression.get('JAK2', 0.0)\n",
    "print(f\"JAK2 expression (default 0.0): {jak2_expr}\")\n",
    "\n",
    "# Update an existing entry\n",
    "gene_expression['BRCA1'] = 9.1\n",
    "\n",
    "# Add a new gene\n",
    "gene_expression['PTEN'] = 4.7\n",
    "\n",
    "# Bulk update with another dict\n",
    "gene_expression.update({'MYC': 22.4, 'EGFR': 16.0})\n"
   ]
  },
  {
   "cell_type": "markdown",
   "id": "afbdf6a2",
   "metadata": {},
   "source": [
    "## 3. Iteration"
   ]
  },
  {
   "cell_type": "code",
   "execution_count": 47,
   "id": "8db12d18",
   "metadata": {},
   "outputs": [
    {
     "name": "stdout",
     "output_type": "stream",
     "text": [
      "TP53 12.5\n",
      "BRCA1 9.1\n",
      "PTEN 4.7\n",
      "MYC 22.4\n",
      "EGFR 16.0\n",
      "TP53: 12.5 → high\n",
      "BRCA1: 9.1 → normal\n",
      "PTEN: 4.7 → normal\n",
      "MYC: 22.4 → high\n",
      "EGFR: 16.0 → high\n",
      "Expression value: 12.5\n",
      "Expression value: 9.1\n",
      "Expression value: 4.7\n",
      "Expression value: 22.4\n",
      "Expression value: 16.0\n"
     ]
    }
   ],
   "source": [
    "# 3a. Iterate over keys\n",
    "for gene in gene_expression:\n",
    "    print(gene, gene_expression[gene])\n",
    "\n",
    "# 3b. Iterate over key–value pairs\n",
    "for gene, expr in gene_expression.items():\n",
    "    status = 'high' if expr > 10 else 'normal'\n",
    "    print(f\"{gene}: {expr:.1f} → {status}\")\n",
    "\n",
    "# 3c. Iterate over values only\n",
    "for expr in gene_expression.values():\n",
    "    print(f\"Expression value: {expr:.1f}\")\n"
   ]
  },
  {
   "cell_type": "markdown",
   "id": "44f859e0",
   "metadata": {},
   "source": [
    "## 4. Use Case: Filtering Highly Expressed Genes"
   ]
  },
  {
   "cell_type": "code",
   "execution_count": 48,
   "id": "41fa3ee1",
   "metadata": {},
   "outputs": [
    {
     "name": "stdout",
     "output_type": "stream",
     "text": [
      "Highly expressed genes:\n",
      " - TP53: 12.5 TPM\n",
      " - MYC: 22.4 TPM\n",
      " - EGFR: 16.0 TPM\n"
     ]
    }
   ],
   "source": [
    "# Suppose we want genes with expression > 10 TPM\n",
    "highly_expressed = {\n",
    "    gene: expr\n",
    "    for gene, expr in gene_expression.items()\n",
    "    if expr > 10.0\n",
    "}\n",
    "\n",
    "print(\"Highly expressed genes:\")\n",
    "for gene, expr in highly_expressed.items():\n",
    "    print(f\" - {gene}: {expr:.1f} TPM\")\n"
   ]
  },
  {
   "cell_type": "markdown",
   "id": "dded0e16",
   "metadata": {},
   "source": [
    "# 🧩 Comprehensions & Generators\n",
    "\n",
    "Python offers concise comprehension syntax for building lists, sets, and dictionaries, plus generator expressions for memory‐efficient iteration. Below are healthcare‐focused examples.\n",
    "\n",
    "---\n",
    "\n",
    "## 1. List Comprehensions\n",
    "\n",
    "Create a new list from an existing iterable in one line.\n",
    "\n",
    "```python\n"
   ]
  },
  {
   "cell_type": "code",
   "execution_count": 49,
   "id": "30beaf35",
   "metadata": {},
   "outputs": [
    {
     "name": "stdout",
     "output_type": "stream",
     "text": [
      "Long sequences: ['ATGATGATGATGATGATGATGATGATGATGATGATGATGATGATGATGATGATGATGATGATGATGATGATGATGATGATGATGATGATGATGATGATGATGATGATGATGATGATGATGATGATGATGATGATGATGATGATGATGATG']\n"
     ]
    }
   ],
   "source": [
    "# Example: filter sequences longer than 100 bp\n",
    "sequences = [\"ATGCGT\", \"ATG\" * 50, \"GGC\"]  # sample list\n",
    "long_seqs = [seq for seq in sequences if len(seq) > 100]\n",
    "print(\"Long sequences:\", long_seqs)\n"
   ]
  },
  {
   "cell_type": "code",
   "execution_count": 50,
   "id": "119f4041",
   "metadata": {},
   "outputs": [
    {
     "name": "stdout",
     "output_type": "stream",
     "text": [
      "GC contents: [50.0, 33.333333333333336, 100.0]\n"
     ]
    }
   ],
   "source": [
    "# Compute GC content (%) for each sequence\n",
    "def gc_content(seq):\n",
    "    return 100 * (seq.count(\"G\") + seq.count(\"C\")) / len(seq)\n",
    "\n",
    "gc_values = [gc_content(seq) for seq in sequences]\n",
    "print(\"GC contents:\", gc_values)\n"
   ]
  },
  {
   "cell_type": "markdown",
   "id": "792fb809",
   "metadata": {},
   "source": [
    "# 2. Dict & Set Comprehensions\n",
    "Dict Comprehension\n",
    "\n",
    "Build a mapping from gene → expression status in one line:"
   ]
  },
  {
   "cell_type": "code",
   "execution_count": 51,
   "id": "2c6f593c",
   "metadata": {},
   "outputs": [
    {
     "name": "stdout",
     "output_type": "stream",
     "text": [
      "{'TP53': 'high', 'BRCA1': 'normal', 'EGFR': 'high'}\n"
     ]
    }
   ],
   "source": [
    "gene_expression = {\"TP53\": 12.5, \"BRCA1\": 8.3, \"EGFR\": 15.2}\n",
    "expr_status = {\n",
    "    gene: (\"high\" if expr > 10 else \"normal\")\n",
    "    for gene, expr in gene_expression.items()\n",
    "}\n",
    "print(expr_status)\n",
    "# → {'TP53': 'high', 'BRCA1': 'normal', 'EGFR': 'high'}\n"
   ]
  },
  {
   "cell_type": "markdown",
   "id": "64653f65",
   "metadata": {},
   "source": [
    "## Set Comprehension\n",
    "Collect unique 3-mers (codons) from a sequence:"
   ]
  },
  {
   "cell_type": "code",
   "execution_count": 52,
   "id": "a14c8831",
   "metadata": {},
   "outputs": [
    {
     "name": "stdout",
     "output_type": "stream",
     "text": [
      "Codons: {'ATG', 'CGA', 'TGA', 'CCT'}\n"
     ]
    }
   ],
   "source": [
    "dna = \"ATGCGATGACCTG\"\n",
    "unique_codons = { dna[i:i+3] for i in range(0, len(dna) - 2, 3) }\n",
    "print(\"Codons:\", unique_codons)\n"
   ]
  },
  {
   "cell_type": "markdown",
   "id": "c557c029",
   "metadata": {},
   "source": [
    "## 13. Generator Expressions\n",
    "Generate values on the fly without storing the entire list in memory—great for large genomic datasets."
   ]
  },
  {
   "cell_type": "code",
   "execution_count": 53,
   "id": "daa22544",
   "metadata": {},
   "outputs": [
    {
     "ename": "FileNotFoundError",
     "evalue": "[Errno 2] No such file or directory: 'huge_dataset.fasta'",
     "output_type": "error",
     "traceback": [
      "\u001b[1;31m---------------------------------------------------------------------------\u001b[0m",
      "\u001b[1;31mFileNotFoundError\u001b[0m                         Traceback (most recent call last)",
      "Cell \u001b[1;32mIn[53], line 8\u001b[0m\n\u001b[0;32m      5\u001b[0m     \u001b[38;5;28;01mreturn\u001b[39;00m (\u001b[38;5;28mlen\u001b[39m(rec\u001b[38;5;241m.\u001b[39mseq) \u001b[38;5;28;01mfor\u001b[39;00m rec \u001b[38;5;129;01min\u001b[39;00m SeqIO\u001b[38;5;241m.\u001b[39mparse(fasta_path, \u001b[38;5;124m\"\u001b[39m\u001b[38;5;124mfasta\u001b[39m\u001b[38;5;124m\"\u001b[39m))\n\u001b[0;32m      7\u001b[0m \u001b[38;5;66;03m# Use the generator in a loop\u001b[39;00m\n\u001b[1;32m----> 8\u001b[0m \u001b[38;5;28;01mfor\u001b[39;00m length \u001b[38;5;129;01min\u001b[39;00m seq_lengths(\u001b[38;5;124m\"\u001b[39m\u001b[38;5;124mhuge_dataset.fasta\u001b[39m\u001b[38;5;124m\"\u001b[39m):\n\u001b[0;32m      9\u001b[0m     \u001b[38;5;28;01mif\u001b[39;00m length \u001b[38;5;241m>\u001b[39m \u001b[38;5;241m1000\u001b[39m:\n\u001b[0;32m     10\u001b[0m         \u001b[38;5;28mprint\u001b[39m(\u001b[38;5;124m\"\u001b[39m\u001b[38;5;124mFound long sequence of length:\u001b[39m\u001b[38;5;124m\"\u001b[39m, length)\n",
      "Cell \u001b[1;32mIn[53], line 5\u001b[0m, in \u001b[0;36mseq_lengths\u001b[1;34m(fasta_path)\u001b[0m\n\u001b[0;32m      4\u001b[0m \u001b[38;5;28;01mdef\u001b[39;00m \u001b[38;5;21mseq_lengths\u001b[39m(fasta_path):\n\u001b[1;32m----> 5\u001b[0m     \u001b[38;5;28;01mreturn\u001b[39;00m (\u001b[38;5;28mlen\u001b[39m(rec\u001b[38;5;241m.\u001b[39mseq) \u001b[38;5;28;01mfor\u001b[39;00m rec \u001b[38;5;129;01min\u001b[39;00m SeqIO\u001b[38;5;241m.\u001b[39mparse(fasta_path, \u001b[38;5;124m\"\u001b[39m\u001b[38;5;124mfasta\u001b[39m\u001b[38;5;124m\"\u001b[39m))\n",
      "File \u001b[1;32mc:\\Users\\pbrin\\anaconda3\\Lib\\site-packages\\Bio\\SeqIO\\__init__.py:626\u001b[0m, in \u001b[0;36mparse\u001b[1;34m(handle, format, alphabet)\u001b[0m\n\u001b[0;32m    624\u001b[0m iterator_generator \u001b[38;5;241m=\u001b[39m _FormatToIterator\u001b[38;5;241m.\u001b[39mget(\u001b[38;5;28mformat\u001b[39m)\n\u001b[0;32m    625\u001b[0m \u001b[38;5;28;01mif\u001b[39;00m iterator_generator:\n\u001b[1;32m--> 626\u001b[0m     \u001b[38;5;28;01mreturn\u001b[39;00m iterator_generator(handle)\n\u001b[0;32m    627\u001b[0m \u001b[38;5;28;01mif\u001b[39;00m \u001b[38;5;28mformat\u001b[39m \u001b[38;5;129;01min\u001b[39;00m AlignIO\u001b[38;5;241m.\u001b[39m_FormatToIterator:\n\u001b[0;32m    628\u001b[0m     \u001b[38;5;66;03m# Use Bio.AlignIO to read in the alignments\u001b[39;00m\n\u001b[0;32m    629\u001b[0m     \u001b[38;5;28;01mreturn\u001b[39;00m (r \u001b[38;5;28;01mfor\u001b[39;00m alignment \u001b[38;5;129;01min\u001b[39;00m AlignIO\u001b[38;5;241m.\u001b[39mparse(handle, \u001b[38;5;28mformat\u001b[39m) \u001b[38;5;28;01mfor\u001b[39;00m r \u001b[38;5;129;01min\u001b[39;00m alignment)\n",
      "File \u001b[1;32mc:\\Users\\pbrin\\anaconda3\\Lib\\site-packages\\Bio\\SeqIO\\FastaIO.py:196\u001b[0m, in \u001b[0;36mFastaIterator.__init__\u001b[1;34m(self, source, alphabet)\u001b[0m\n\u001b[0;32m    194\u001b[0m \u001b[38;5;28;01mif\u001b[39;00m alphabet \u001b[38;5;129;01mis\u001b[39;00m \u001b[38;5;129;01mnot\u001b[39;00m \u001b[38;5;28;01mNone\u001b[39;00m:\n\u001b[0;32m    195\u001b[0m     \u001b[38;5;28;01mraise\u001b[39;00m \u001b[38;5;167;01mValueError\u001b[39;00m(\u001b[38;5;124m\"\u001b[39m\u001b[38;5;124mThe alphabet argument is no longer supported\u001b[39m\u001b[38;5;124m\"\u001b[39m)\n\u001b[1;32m--> 196\u001b[0m \u001b[38;5;28msuper\u001b[39m()\u001b[38;5;241m.\u001b[39m\u001b[38;5;21m__init__\u001b[39m(source, fmt\u001b[38;5;241m=\u001b[39m\u001b[38;5;124m\"\u001b[39m\u001b[38;5;124mFasta\u001b[39m\u001b[38;5;124m\"\u001b[39m)\n\u001b[0;32m    197\u001b[0m \u001b[38;5;28;01mtry\u001b[39;00m:\n\u001b[0;32m    198\u001b[0m     line \u001b[38;5;241m=\u001b[39m \u001b[38;5;28mnext\u001b[39m(\u001b[38;5;28mself\u001b[39m\u001b[38;5;241m.\u001b[39mstream)\n",
      "File \u001b[1;32mc:\\Users\\pbrin\\anaconda3\\Lib\\site-packages\\Bio\\SeqIO\\Interfaces.py:81\u001b[0m, in \u001b[0;36mSequenceIterator.__init__\u001b[1;34m(self, source, alphabet, fmt)\u001b[0m\n\u001b[0;32m     79\u001b[0m \u001b[38;5;28;01mif\u001b[39;00m \u001b[38;5;28misinstance\u001b[39m(source, _PathLikeTypes):\n\u001b[0;32m     80\u001b[0m     mode \u001b[38;5;241m=\u001b[39m modes[\u001b[38;5;241m0\u001b[39m]\n\u001b[1;32m---> 81\u001b[0m     \u001b[38;5;28mself\u001b[39m\u001b[38;5;241m.\u001b[39mstream \u001b[38;5;241m=\u001b[39m \u001b[38;5;28mopen\u001b[39m(source, \u001b[38;5;124m\"\u001b[39m\u001b[38;5;124mr\u001b[39m\u001b[38;5;124m\"\u001b[39m \u001b[38;5;241m+\u001b[39m mode)\n\u001b[0;32m     82\u001b[0m \u001b[38;5;28;01melse\u001b[39;00m:\n\u001b[0;32m     83\u001b[0m     value \u001b[38;5;241m=\u001b[39m source\u001b[38;5;241m.\u001b[39mread(\u001b[38;5;241m0\u001b[39m)\n",
      "\u001b[1;31mFileNotFoundError\u001b[0m: [Errno 2] No such file or directory: 'huge_dataset.fasta'"
     ]
    }
   ],
   "source": [
    "# Generator for sequence lengths from a large FASTA file\n",
    "from Bio import SeqIO\n",
    "\n",
    "def seq_lengths(fasta_path):\n",
    "    return (len(rec.seq) for rec in SeqIO.parse(fasta_path, \"fasta\"))\n",
    "\n",
    "# Use the generator in a loop\n",
    "for length in seq_lengths(\"huge_dataset.fasta\"):\n",
    "    if length > 1000:\n",
    "        print(\"Found long sequence of length:\", length)\n"
   ]
  },
  {
   "cell_type": "code",
   "execution_count": 54,
   "id": "8788ed08",
   "metadata": {},
   "outputs": [
    {
     "ename": "FileNotFoundError",
     "evalue": "[Errno 2] No such file or directory: 'huge_dataset.fasta'",
     "output_type": "error",
     "traceback": [
      "\u001b[1;31m---------------------------------------------------------------------------\u001b[0m",
      "\u001b[1;31mFileNotFoundError\u001b[0m                         Traceback (most recent call last)",
      "Cell \u001b[1;32mIn[54], line 2\u001b[0m\n\u001b[0;32m      1\u001b[0m \u001b[38;5;66;03m# Sum total nucleotides across records without building a list\u001b[39;00m\n\u001b[1;32m----> 2\u001b[0m total_nt \u001b[38;5;241m=\u001b[39m \u001b[38;5;28msum\u001b[39m(\u001b[38;5;28mlen\u001b[39m(rec\u001b[38;5;241m.\u001b[39mseq) \u001b[38;5;28;01mfor\u001b[39;00m rec \u001b[38;5;129;01min\u001b[39;00m SeqIO\u001b[38;5;241m.\u001b[39mparse(\u001b[38;5;124m\"\u001b[39m\u001b[38;5;124mhuge_dataset.fasta\u001b[39m\u001b[38;5;124m\"\u001b[39m, \u001b[38;5;124m\"\u001b[39m\u001b[38;5;124mfasta\u001b[39m\u001b[38;5;124m\"\u001b[39m))\n\u001b[0;32m      3\u001b[0m \u001b[38;5;28mprint\u001b[39m(\u001b[38;5;124m\"\u001b[39m\u001b[38;5;124mTotal nucleotides:\u001b[39m\u001b[38;5;124m\"\u001b[39m, total_nt)\n",
      "File \u001b[1;32mc:\\Users\\pbrin\\anaconda3\\Lib\\site-packages\\Bio\\SeqIO\\__init__.py:626\u001b[0m, in \u001b[0;36mparse\u001b[1;34m(handle, format, alphabet)\u001b[0m\n\u001b[0;32m    624\u001b[0m iterator_generator \u001b[38;5;241m=\u001b[39m _FormatToIterator\u001b[38;5;241m.\u001b[39mget(\u001b[38;5;28mformat\u001b[39m)\n\u001b[0;32m    625\u001b[0m \u001b[38;5;28;01mif\u001b[39;00m iterator_generator:\n\u001b[1;32m--> 626\u001b[0m     \u001b[38;5;28;01mreturn\u001b[39;00m iterator_generator(handle)\n\u001b[0;32m    627\u001b[0m \u001b[38;5;28;01mif\u001b[39;00m \u001b[38;5;28mformat\u001b[39m \u001b[38;5;129;01min\u001b[39;00m AlignIO\u001b[38;5;241m.\u001b[39m_FormatToIterator:\n\u001b[0;32m    628\u001b[0m     \u001b[38;5;66;03m# Use Bio.AlignIO to read in the alignments\u001b[39;00m\n\u001b[0;32m    629\u001b[0m     \u001b[38;5;28;01mreturn\u001b[39;00m (r \u001b[38;5;28;01mfor\u001b[39;00m alignment \u001b[38;5;129;01min\u001b[39;00m AlignIO\u001b[38;5;241m.\u001b[39mparse(handle, \u001b[38;5;28mformat\u001b[39m) \u001b[38;5;28;01mfor\u001b[39;00m r \u001b[38;5;129;01min\u001b[39;00m alignment)\n",
      "File \u001b[1;32mc:\\Users\\pbrin\\anaconda3\\Lib\\site-packages\\Bio\\SeqIO\\FastaIO.py:196\u001b[0m, in \u001b[0;36mFastaIterator.__init__\u001b[1;34m(self, source, alphabet)\u001b[0m\n\u001b[0;32m    194\u001b[0m \u001b[38;5;28;01mif\u001b[39;00m alphabet \u001b[38;5;129;01mis\u001b[39;00m \u001b[38;5;129;01mnot\u001b[39;00m \u001b[38;5;28;01mNone\u001b[39;00m:\n\u001b[0;32m    195\u001b[0m     \u001b[38;5;28;01mraise\u001b[39;00m \u001b[38;5;167;01mValueError\u001b[39;00m(\u001b[38;5;124m\"\u001b[39m\u001b[38;5;124mThe alphabet argument is no longer supported\u001b[39m\u001b[38;5;124m\"\u001b[39m)\n\u001b[1;32m--> 196\u001b[0m \u001b[38;5;28msuper\u001b[39m()\u001b[38;5;241m.\u001b[39m\u001b[38;5;21m__init__\u001b[39m(source, fmt\u001b[38;5;241m=\u001b[39m\u001b[38;5;124m\"\u001b[39m\u001b[38;5;124mFasta\u001b[39m\u001b[38;5;124m\"\u001b[39m)\n\u001b[0;32m    197\u001b[0m \u001b[38;5;28;01mtry\u001b[39;00m:\n\u001b[0;32m    198\u001b[0m     line \u001b[38;5;241m=\u001b[39m \u001b[38;5;28mnext\u001b[39m(\u001b[38;5;28mself\u001b[39m\u001b[38;5;241m.\u001b[39mstream)\n",
      "File \u001b[1;32mc:\\Users\\pbrin\\anaconda3\\Lib\\site-packages\\Bio\\SeqIO\\Interfaces.py:81\u001b[0m, in \u001b[0;36mSequenceIterator.__init__\u001b[1;34m(self, source, alphabet, fmt)\u001b[0m\n\u001b[0;32m     79\u001b[0m \u001b[38;5;28;01mif\u001b[39;00m \u001b[38;5;28misinstance\u001b[39m(source, _PathLikeTypes):\n\u001b[0;32m     80\u001b[0m     mode \u001b[38;5;241m=\u001b[39m modes[\u001b[38;5;241m0\u001b[39m]\n\u001b[1;32m---> 81\u001b[0m     \u001b[38;5;28mself\u001b[39m\u001b[38;5;241m.\u001b[39mstream \u001b[38;5;241m=\u001b[39m \u001b[38;5;28mopen\u001b[39m(source, \u001b[38;5;124m\"\u001b[39m\u001b[38;5;124mr\u001b[39m\u001b[38;5;124m\"\u001b[39m \u001b[38;5;241m+\u001b[39m mode)\n\u001b[0;32m     82\u001b[0m \u001b[38;5;28;01melse\u001b[39;00m:\n\u001b[0;32m     83\u001b[0m     value \u001b[38;5;241m=\u001b[39m source\u001b[38;5;241m.\u001b[39mread(\u001b[38;5;241m0\u001b[39m)\n",
      "\u001b[1;31mFileNotFoundError\u001b[0m: [Errno 2] No such file or directory: 'huge_dataset.fasta'"
     ]
    }
   ],
   "source": [
    "# Sum total nucleotides across records without building a list\n",
    "total_nt = sum(len(rec.seq) for rec in SeqIO.parse(\"huge_dataset.fasta\", \"fasta\"))\n",
    "print(\"Total nucleotides:\", total_nt)\n"
   ]
  },
  {
   "cell_type": "markdown",
   "id": "b1507176",
   "metadata": {},
   "source": [
    "# 📦 Modules & Packages\n",
    "\n",
    "---\n",
    "\n",
    "## 1. `import` vs. `from … import …`\n",
    "\n",
    "Use `import module` to bring in a module namespace, or `from module import name` to pull specific attributes into local scope.\n",
    "\n",
    "```python\n"
   ]
  },
  {
   "cell_type": "code",
   "execution_count": 55,
   "id": "410879df",
   "metadata": {},
   "outputs": [
    {
     "name": "stdout",
     "output_type": "stream",
     "text": [
      "4.0\n",
      "5.0\n"
     ]
    }
   ],
   "source": [
    "# a) import the whole module\n",
    "import math\n",
    "print(math.sqrt(16))    # → 4.0\n",
    "# Reference with module prefix\n",
    "\n",
    "# b) import only sqrt directly\n",
    "from math import sqrt\n",
    "print(sqrt(25))         # → 5.0\n",
    "# You can call sqrt() without the math. prefix\n",
    "\n",
    "# c) import with alias\n",
    "import pandas as pd\n",
    "df = pd.DataFrame({\"A\": [1, 2, 3]})\n"
   ]
  },
  {
   "cell_type": "markdown",
   "id": "dcf5535c",
   "metadata": {},
   "source": [
    "## 2. Creating Your Own Modules\n",
    "Write a Python file (e.g. bio_utils.py):"
   ]
  },
  {
   "cell_type": "code",
   "execution_count": 56,
   "id": "1c066883",
   "metadata": {},
   "outputs": [],
   "source": [
    "# bio_utils.py\n",
    "\n",
    "def gc_content(seq):\n",
    "    \"\"\"Return GC percentage of a DNA sequence.\"\"\"\n",
    "    return 100 * (seq.count(\"G\") + seq.count(\"C\")) / len(seq)\n",
    "\n",
    "def rev_comp(seq):\n",
    "    \"\"\"Return the reverse complement of a DNA sequence.\"\"\"\n",
    "    comp = seq.translate(str.maketrans(\"ACGT\", \"TGCA\"))\n",
    "    return comp[::-1]\n"
   ]
  },
  {
   "cell_type": "markdown",
   "id": "7ac00353",
   "metadata": {},
   "source": [
    "## Import it in your notebook or script:\n"
   ]
  },
  {
   "cell_type": "code",
   "execution_count": 58,
   "id": "40c29e71",
   "metadata": {},
   "outputs": [
    {
     "name": "stdout",
     "output_type": "stream",
     "text": [
      "GC%: 50.0\n",
      "RevComp: GTACGCAT\n",
      "TTTCCC\n"
     ]
    }
   ],
   "source": [
    "# in the same directory as bio_utils.py\n",
    "import bio_utils\n",
    "\n",
    "dna = \"ATGCGTAC\"\n",
    "print(\"GC%:\", bio_utils.gc_content(dna))\n",
    "print(\"RevComp:\", bio_utils.rev_comp(dna))\n",
    "\n",
    "# Or import specific functions\n",
    "from bio_utils import rev_comp\n",
    "print(rev_comp(\"GGGAAA\"))\n"
   ]
  },
  {
   "cell_type": "markdown",
   "id": "e5701b98",
   "metadata": {},
   "source": [
    "## 3. Installing Third‐Party Packages\n",
    "Use pip (or conda if you’re in Anaconda) to install packages before importing them."
   ]
  },
  {
   "cell_type": "code",
   "execution_count": 61,
   "id": "b730afe4",
   "metadata": {},
   "outputs": [
    {
     "name": "stdout",
     "output_type": "stream",
     "text": [
      "Requirement already satisfied: seaborn in c:\\users\\pbrin\\anaconda3\\lib\\site-packages (0.13.2)\n",
      "Requirement already satisfied: numpy!=1.24.0,>=1.20 in c:\\users\\pbrin\\anaconda3\\lib\\site-packages (from seaborn) (1.26.4)\n",
      "Requirement already satisfied: pandas>=1.2 in c:\\users\\pbrin\\anaconda3\\lib\\site-packages (from seaborn) (2.2.2)\n",
      "Requirement already satisfied: matplotlib!=3.6.1,>=3.4 in c:\\users\\pbrin\\anaconda3\\lib\\site-packages (from seaborn) (3.9.2)\n",
      "Requirement already satisfied: contourpy>=1.0.1 in c:\\users\\pbrin\\anaconda3\\lib\\site-packages (from matplotlib!=3.6.1,>=3.4->seaborn) (1.2.0)\n",
      "Requirement already satisfied: cycler>=0.10 in c:\\users\\pbrin\\anaconda3\\lib\\site-packages (from matplotlib!=3.6.1,>=3.4->seaborn) (0.11.0)\n",
      "Requirement already satisfied: fonttools>=4.22.0 in c:\\users\\pbrin\\anaconda3\\lib\\site-packages (from matplotlib!=3.6.1,>=3.4->seaborn) (4.51.0)\n",
      "Requirement already satisfied: kiwisolver>=1.3.1 in c:\\users\\pbrin\\anaconda3\\lib\\site-packages (from matplotlib!=3.6.1,>=3.4->seaborn) (1.4.4)\n",
      "Requirement already satisfied: packaging>=20.0 in c:\\users\\pbrin\\anaconda3\\lib\\site-packages (from matplotlib!=3.6.1,>=3.4->seaborn) (24.1)\n",
      "Requirement already satisfied: pillow>=8 in c:\\users\\pbrin\\anaconda3\\lib\\site-packages (from matplotlib!=3.6.1,>=3.4->seaborn) (10.4.0)\n",
      "Requirement already satisfied: pyparsing>=2.3.1 in c:\\users\\pbrin\\anaconda3\\lib\\site-packages (from matplotlib!=3.6.1,>=3.4->seaborn) (3.1.2)\n",
      "Requirement already satisfied: python-dateutil>=2.7 in c:\\users\\pbrin\\anaconda3\\lib\\site-packages (from matplotlib!=3.6.1,>=3.4->seaborn) (2.9.0.post0)\n",
      "Requirement already satisfied: pytz>=2020.1 in c:\\users\\pbrin\\anaconda3\\lib\\site-packages (from pandas>=1.2->seaborn) (2024.1)\n",
      "Requirement already satisfied: tzdata>=2022.7 in c:\\users\\pbrin\\anaconda3\\lib\\site-packages (from pandas>=1.2->seaborn) (2023.3)\n",
      "Requirement already satisfied: six>=1.5 in c:\\users\\pbrin\\anaconda3\\lib\\site-packages (from python-dateutil>=2.7->matplotlib!=3.6.1,>=3.4->seaborn) (1.16.0)\n",
      "Channels:\n",
      " - defaults\n",
      "Platform: win-64\n",
      "Collecting package metadata (repodata.json): ...working... done\n",
      "Solving environment: ...working... done\n",
      "\n",
      "## Package Plan ##\n",
      "\n",
      "  environment location: C:\\Users\\pbrin\\anaconda3\n",
      "\n",
      "  added / updated specs:\n",
      "    - seaborn\n",
      "\n",
      "\n",
      "The following packages will be downloaded:\n",
      "\n",
      "    package                    |            build\n",
      "    ---------------------------|-----------------\n",
      "    certifi-2025.4.26          |  py312haa95532_0         158 KB\n",
      "    seaborn-0.13.2             |  py312haa95532_2         723 KB\n",
      "    ------------------------------------------------------------\n",
      "                                           Total:         881 KB\n",
      "\n",
      "The following packages will be UPDATED:\n",
      "\n",
      "  certifi                         2025.1.31-py312haa95532_0 --> 2025.4.26-py312haa95532_0 \n",
      "  seaborn                            0.13.2-py312haa95532_0 --> 0.13.2-py312haa95532_2 \n",
      "\n",
      "\n",
      "\n",
      "Downloading and Extracting Packages: ...working...\n",
      "seaborn-0.13.2       | 723 KB    |            |   0% \n",
      "\n",
      "certifi-2025.4.26    | 158 KB    |            |   0% \u001b[A\n",
      "seaborn-0.13.2       | 723 KB    | 2          |   2% \n",
      "\n",
      "certifi-2025.4.26    | 158 KB    | #          |  10% \u001b[A\n",
      "\n",
      "certifi-2025.4.26    | 158 KB    | ####       |  41% \u001b[A\n",
      "seaborn-0.13.2       | 723 KB    | 8          |   9% \n",
      "seaborn-0.13.2       | 723 KB    | #7         |  18% \n",
      "\n",
      "certifi-2025.4.26    | 158 KB    | ########1  |  81% \u001b[A\n",
      "\n",
      "certifi-2025.4.26    | 158 KB    | ########## | 100% \u001b[A\n",
      "\n",
      "certifi-2025.4.26    | 158 KB    | ########## | 100% \u001b[A\n",
      "seaborn-0.13.2       | 723 KB    | ###3       |  33% \n",
      "seaborn-0.13.2       | 723 KB    | ####2      |  42% \n",
      "seaborn-0.13.2       | 723 KB    | #####      |  51% \n",
      "seaborn-0.13.2       | 723 KB    | #####9     |  60% \n",
      "seaborn-0.13.2       | 723 KB    | ########## | 100% \n",
      "seaborn-0.13.2       | 723 KB    | ########## | 100% \n",
      "seaborn-0.13.2       | 723 KB    | ########## | 100% \n",
      "                                                     \n",
      "\n",
      "\n",
      "                                                     \u001b[A done\n",
      "Preparing transaction: done\n",
      "Verifying transaction: done\n",
      "Executing transaction: done\n"
     ]
    }
   ],
   "source": [
    "# In a notebook cell:\n",
    "!pip install seaborn\n",
    "# or\n",
    "!conda install -y seaborn\n"
   ]
  },
  {
   "cell_type": "markdown",
   "id": "ce4e5a65",
   "metadata": {},
   "source": [
    "# 📁 File I/O: `open()` & Context Managers\n",
    "\n",
    "Python’s built-in `open()` function plus the `with` statement make reading and writing text files safe and concise.\n",
    "\n",
    "---\n",
    "\n",
    "## 1. Opening Files Safely\n",
    "\n",
    "```python\n"
   ]
  },
  {
   "cell_type": "code",
   "execution_count": 62,
   "id": "aed39ba0",
   "metadata": {},
   "outputs": [
    {
     "ename": "FileNotFoundError",
     "evalue": "[Errno 2] No such file or directory: 'notes.txt'",
     "output_type": "error",
     "traceback": [
      "\u001b[1;31m---------------------------------------------------------------------------\u001b[0m",
      "\u001b[1;31mFileNotFoundError\u001b[0m                         Traceback (most recent call last)",
      "Cell \u001b[1;32mIn[62], line 2\u001b[0m\n\u001b[0;32m      1\u001b[0m \u001b[38;5;66;03m# Read a text file\u001b[39;00m\n\u001b[1;32m----> 2\u001b[0m \u001b[38;5;28;01mwith\u001b[39;00m \u001b[38;5;28mopen\u001b[39m(\u001b[38;5;124m\"\u001b[39m\u001b[38;5;124mnotes.txt\u001b[39m\u001b[38;5;124m\"\u001b[39m, \u001b[38;5;124m\"\u001b[39m\u001b[38;5;124mr\u001b[39m\u001b[38;5;124m\"\u001b[39m) \u001b[38;5;28;01mas\u001b[39;00m f:\n\u001b[0;32m      3\u001b[0m     contents \u001b[38;5;241m=\u001b[39m f\u001b[38;5;241m.\u001b[39mread()\n\u001b[0;32m      4\u001b[0m     \u001b[38;5;28mprint\u001b[39m(contents)\n",
      "File \u001b[1;32mc:\\Users\\pbrin\\anaconda3\\Lib\\site-packages\\IPython\\core\\interactiveshell.py:324\u001b[0m, in \u001b[0;36m_modified_open\u001b[1;34m(file, *args, **kwargs)\u001b[0m\n\u001b[0;32m    317\u001b[0m \u001b[38;5;28;01mif\u001b[39;00m file \u001b[38;5;129;01min\u001b[39;00m {\u001b[38;5;241m0\u001b[39m, \u001b[38;5;241m1\u001b[39m, \u001b[38;5;241m2\u001b[39m}:\n\u001b[0;32m    318\u001b[0m     \u001b[38;5;28;01mraise\u001b[39;00m \u001b[38;5;167;01mValueError\u001b[39;00m(\n\u001b[0;32m    319\u001b[0m         \u001b[38;5;124mf\u001b[39m\u001b[38;5;124m\"\u001b[39m\u001b[38;5;124mIPython won\u001b[39m\u001b[38;5;124m'\u001b[39m\u001b[38;5;124mt let you open fd=\u001b[39m\u001b[38;5;132;01m{\u001b[39;00mfile\u001b[38;5;132;01m}\u001b[39;00m\u001b[38;5;124m by default \u001b[39m\u001b[38;5;124m\"\u001b[39m\n\u001b[0;32m    320\u001b[0m         \u001b[38;5;124m\"\u001b[39m\u001b[38;5;124mas it is likely to crash IPython. If you know what you are doing, \u001b[39m\u001b[38;5;124m\"\u001b[39m\n\u001b[0;32m    321\u001b[0m         \u001b[38;5;124m\"\u001b[39m\u001b[38;5;124myou can use builtins\u001b[39m\u001b[38;5;124m'\u001b[39m\u001b[38;5;124m open.\u001b[39m\u001b[38;5;124m\"\u001b[39m\n\u001b[0;32m    322\u001b[0m     )\n\u001b[1;32m--> 324\u001b[0m \u001b[38;5;28;01mreturn\u001b[39;00m io_open(file, \u001b[38;5;241m*\u001b[39margs, \u001b[38;5;241m*\u001b[39m\u001b[38;5;241m*\u001b[39mkwargs)\n",
      "\u001b[1;31mFileNotFoundError\u001b[0m: [Errno 2] No such file or directory: 'notes.txt'"
     ]
    }
   ],
   "source": [
    "# Read a text file\n",
    "with open(\"notes.txt\", \"r\") as f:\n",
    "    contents = f.read()\n",
    "    print(contents)\n",
    "\n",
    "# Write to a text file (overwrites if exists)\n",
    "with open(\"output.txt\", \"w\") as f:\n",
    "    f.write(\"Analysis complete.\\n\")\n",
    "\n",
    "# Append to a file\n",
    "with open(\"log.txt\", \"a\") as f:\n",
    "    f.write(\"New entry at end of log.\\n\")\n"
   ]
  },
  {
   "cell_type": "markdown",
   "id": "8b0641e6",
   "metadata": {},
   "source": [
    "2. Line-by-Line Processing"
   ]
  },
  {
   "cell_type": "code",
   "execution_count": 63,
   "id": "0b2fe597",
   "metadata": {},
   "outputs": [
    {
     "ename": "FileNotFoundError",
     "evalue": "[Errno 2] No such file or directory: 'patients.csv'",
     "output_type": "error",
     "traceback": [
      "\u001b[1;31m---------------------------------------------------------------------------\u001b[0m",
      "\u001b[1;31mFileNotFoundError\u001b[0m                         Traceback (most recent call last)",
      "Cell \u001b[1;32mIn[63], line 2\u001b[0m\n\u001b[0;32m      1\u001b[0m \u001b[38;5;66;03m# Process a large file without loading it all into memory\u001b[39;00m\n\u001b[1;32m----> 2\u001b[0m \u001b[38;5;28;01mwith\u001b[39;00m \u001b[38;5;28mopen\u001b[39m(\u001b[38;5;124m\"\u001b[39m\u001b[38;5;124mpatients.csv\u001b[39m\u001b[38;5;124m\"\u001b[39m, \u001b[38;5;124m\"\u001b[39m\u001b[38;5;124mr\u001b[39m\u001b[38;5;124m\"\u001b[39m) \u001b[38;5;28;01mas\u001b[39;00m infile, \u001b[38;5;28mopen\u001b[39m(\u001b[38;5;124m\"\u001b[39m\u001b[38;5;124mfiltered.csv\u001b[39m\u001b[38;5;124m\"\u001b[39m, \u001b[38;5;124m\"\u001b[39m\u001b[38;5;124mw\u001b[39m\u001b[38;5;124m\"\u001b[39m) \u001b[38;5;28;01mas\u001b[39;00m outfile:\n\u001b[0;32m      3\u001b[0m     header \u001b[38;5;241m=\u001b[39m infile\u001b[38;5;241m.\u001b[39mreadline()\n\u001b[0;32m      4\u001b[0m     outfile\u001b[38;5;241m.\u001b[39mwrite(header)\n",
      "File \u001b[1;32mc:\\Users\\pbrin\\anaconda3\\Lib\\site-packages\\IPython\\core\\interactiveshell.py:324\u001b[0m, in \u001b[0;36m_modified_open\u001b[1;34m(file, *args, **kwargs)\u001b[0m\n\u001b[0;32m    317\u001b[0m \u001b[38;5;28;01mif\u001b[39;00m file \u001b[38;5;129;01min\u001b[39;00m {\u001b[38;5;241m0\u001b[39m, \u001b[38;5;241m1\u001b[39m, \u001b[38;5;241m2\u001b[39m}:\n\u001b[0;32m    318\u001b[0m     \u001b[38;5;28;01mraise\u001b[39;00m \u001b[38;5;167;01mValueError\u001b[39;00m(\n\u001b[0;32m    319\u001b[0m         \u001b[38;5;124mf\u001b[39m\u001b[38;5;124m\"\u001b[39m\u001b[38;5;124mIPython won\u001b[39m\u001b[38;5;124m'\u001b[39m\u001b[38;5;124mt let you open fd=\u001b[39m\u001b[38;5;132;01m{\u001b[39;00mfile\u001b[38;5;132;01m}\u001b[39;00m\u001b[38;5;124m by default \u001b[39m\u001b[38;5;124m\"\u001b[39m\n\u001b[0;32m    320\u001b[0m         \u001b[38;5;124m\"\u001b[39m\u001b[38;5;124mas it is likely to crash IPython. If you know what you are doing, \u001b[39m\u001b[38;5;124m\"\u001b[39m\n\u001b[0;32m    321\u001b[0m         \u001b[38;5;124m\"\u001b[39m\u001b[38;5;124myou can use builtins\u001b[39m\u001b[38;5;124m'\u001b[39m\u001b[38;5;124m open.\u001b[39m\u001b[38;5;124m\"\u001b[39m\n\u001b[0;32m    322\u001b[0m     )\n\u001b[1;32m--> 324\u001b[0m \u001b[38;5;28;01mreturn\u001b[39;00m io_open(file, \u001b[38;5;241m*\u001b[39margs, \u001b[38;5;241m*\u001b[39m\u001b[38;5;241m*\u001b[39mkwargs)\n",
      "\u001b[1;31mFileNotFoundError\u001b[0m: [Errno 2] No such file or directory: 'patients.csv'"
     ]
    }
   ],
   "source": [
    "# Process a large file without loading it all into memory\n",
    "with open(\"patients.csv\", \"r\") as infile, open(\"filtered.csv\", \"w\") as outfile:\n",
    "    header = infile.readline()\n",
    "    outfile.write(header)\n",
    "    for line in infile:\n",
    "        fields = line.strip().split(\",\")\n",
    "        age = int(fields[2])\n",
    "        # Only keep adult patients\n",
    "        if age >= 18:\n",
    "            outfile.write(line)\n"
   ]
  },
  {
   "cell_type": "markdown",
   "id": "6de1714b",
   "metadata": {},
   "source": [
    "## 3. Example: Manually Parsing a FASTA File\n",
    "FASTA format has records beginning with > headers, followed by sequence lines. Here’s a simple parser:"
   ]
  },
  {
   "cell_type": "code",
   "execution_count": 64,
   "id": "b7668b80",
   "metadata": {},
   "outputs": [
    {
     "ename": "FileNotFoundError",
     "evalue": "[Errno 2] No such file or directory: 'sample.fasta'",
     "output_type": "error",
     "traceback": [
      "\u001b[1;31m---------------------------------------------------------------------------\u001b[0m",
      "\u001b[1;31mFileNotFoundError\u001b[0m                         Traceback (most recent call last)",
      "Cell \u001b[1;32mIn[64], line 26\u001b[0m\n\u001b[0;32m     23\u001b[0m             \u001b[38;5;28;01myield\u001b[39;00m header, \u001b[38;5;124m\"\u001b[39m\u001b[38;5;124m\"\u001b[39m\u001b[38;5;241m.\u001b[39mjoin(seq_parts)\n\u001b[0;32m     25\u001b[0m \u001b[38;5;66;03m# Usage example\u001b[39;00m\n\u001b[1;32m---> 26\u001b[0m \u001b[38;5;28;01mfor\u001b[39;00m hdr, seq \u001b[38;5;129;01min\u001b[39;00m parse_fasta(\u001b[38;5;124m\"\u001b[39m\u001b[38;5;124msample.fasta\u001b[39m\u001b[38;5;124m\"\u001b[39m):\n\u001b[0;32m     27\u001b[0m     \u001b[38;5;28mprint\u001b[39m(\u001b[38;5;124mf\u001b[39m\u001b[38;5;124m\"\u001b[39m\u001b[38;5;132;01m{\u001b[39;00mhdr\u001b[38;5;132;01m}\u001b[39;00m\u001b[38;5;124m: length=\u001b[39m\u001b[38;5;132;01m{\u001b[39;00m\u001b[38;5;28mlen\u001b[39m(seq)\u001b[38;5;132;01m}\u001b[39;00m\u001b[38;5;124m bp\u001b[39m\u001b[38;5;124m\"\u001b[39m)\n",
      "Cell \u001b[1;32mIn[64], line 5\u001b[0m, in \u001b[0;36mparse_fasta\u001b[1;34m(path)\u001b[0m\n\u001b[0;32m      1\u001b[0m \u001b[38;5;28;01mdef\u001b[39;00m \u001b[38;5;21mparse_fasta\u001b[39m(path):\n\u001b[0;32m      2\u001b[0m \u001b[38;5;250m    \u001b[39m\u001b[38;5;124;03m\"\"\"\u001b[39;00m\n\u001b[0;32m      3\u001b[0m \u001b[38;5;124;03m    Yields tuples of (header, sequence) for each record in the FASTA file.\u001b[39;00m\n\u001b[0;32m      4\u001b[0m \u001b[38;5;124;03m    \"\"\"\u001b[39;00m\n\u001b[1;32m----> 5\u001b[0m     \u001b[38;5;28;01mwith\u001b[39;00m \u001b[38;5;28mopen\u001b[39m(path, \u001b[38;5;124m\"\u001b[39m\u001b[38;5;124mr\u001b[39m\u001b[38;5;124m\"\u001b[39m) \u001b[38;5;28;01mas\u001b[39;00m f:\n\u001b[0;32m      6\u001b[0m         header \u001b[38;5;241m=\u001b[39m \u001b[38;5;28;01mNone\u001b[39;00m\n\u001b[0;32m      7\u001b[0m         seq_parts \u001b[38;5;241m=\u001b[39m []\n",
      "File \u001b[1;32mc:\\Users\\pbrin\\anaconda3\\Lib\\site-packages\\IPython\\core\\interactiveshell.py:324\u001b[0m, in \u001b[0;36m_modified_open\u001b[1;34m(file, *args, **kwargs)\u001b[0m\n\u001b[0;32m    317\u001b[0m \u001b[38;5;28;01mif\u001b[39;00m file \u001b[38;5;129;01min\u001b[39;00m {\u001b[38;5;241m0\u001b[39m, \u001b[38;5;241m1\u001b[39m, \u001b[38;5;241m2\u001b[39m}:\n\u001b[0;32m    318\u001b[0m     \u001b[38;5;28;01mraise\u001b[39;00m \u001b[38;5;167;01mValueError\u001b[39;00m(\n\u001b[0;32m    319\u001b[0m         \u001b[38;5;124mf\u001b[39m\u001b[38;5;124m\"\u001b[39m\u001b[38;5;124mIPython won\u001b[39m\u001b[38;5;124m'\u001b[39m\u001b[38;5;124mt let you open fd=\u001b[39m\u001b[38;5;132;01m{\u001b[39;00mfile\u001b[38;5;132;01m}\u001b[39;00m\u001b[38;5;124m by default \u001b[39m\u001b[38;5;124m\"\u001b[39m\n\u001b[0;32m    320\u001b[0m         \u001b[38;5;124m\"\u001b[39m\u001b[38;5;124mas it is likely to crash IPython. If you know what you are doing, \u001b[39m\u001b[38;5;124m\"\u001b[39m\n\u001b[0;32m    321\u001b[0m         \u001b[38;5;124m\"\u001b[39m\u001b[38;5;124myou can use builtins\u001b[39m\u001b[38;5;124m'\u001b[39m\u001b[38;5;124m open.\u001b[39m\u001b[38;5;124m\"\u001b[39m\n\u001b[0;32m    322\u001b[0m     )\n\u001b[1;32m--> 324\u001b[0m \u001b[38;5;28;01mreturn\u001b[39;00m io_open(file, \u001b[38;5;241m*\u001b[39margs, \u001b[38;5;241m*\u001b[39m\u001b[38;5;241m*\u001b[39mkwargs)\n",
      "\u001b[1;31mFileNotFoundError\u001b[0m: [Errno 2] No such file or directory: 'sample.fasta'"
     ]
    }
   ],
   "source": [
    "def parse_fasta(path):\n",
    "    \"\"\"\n",
    "    Yields tuples of (header, sequence) for each record in the FASTA file.\n",
    "    \"\"\"\n",
    "    with open(path, \"r\") as f:\n",
    "        header = None\n",
    "        seq_parts = []\n",
    "        for raw in f:\n",
    "            line = raw.strip()\n",
    "            if not line:\n",
    "                continue\n",
    "            if line.startswith(\">\"):\n",
    "                # yield previous record\n",
    "                if header:\n",
    "                    yield header, \"\".join(seq_parts)\n",
    "                # start new record\n",
    "                header = line[1:].split()[0]\n",
    "                seq_parts = []\n",
    "            else:\n",
    "                seq_parts.append(line)\n",
    "        # yield last record\n",
    "        if header:\n",
    "            yield header, \"\".join(seq_parts)\n",
    "\n",
    "# Usage example\n",
    "for hdr, seq in parse_fasta(\"sample.fasta\"):\n",
    "    print(f\"{hdr}: length={len(seq)} bp\")\n"
   ]
  },
  {
   "cell_type": "markdown",
   "id": "a9d4616e",
   "metadata": {},
   "source": [
    "# 🧬 Biopython: `Bio.Seq` & `Bio.SeqIO`\n",
    "\n",
    "This section covers how to install Biopython, the core `Seq` object for sequence manipulation, and the `SeqIO` module for reading/writing biological sequence files.\n",
    "\n",
    "---\n",
    "\n",
    "## 1. Installing Biopython\n",
    "\n",
    "Use `pip` in any Python environment, or `conda` if you’re in Anaconda:\n",
    "\n",
    "```bash\n",
    "#"
   ]
  },
  {
   "cell_type": "code",
   "execution_count": 66,
   "id": "1ac88fd4",
   "metadata": {},
   "outputs": [
    {
     "name": "stdout",
     "output_type": "stream",
     "text": [
      "Requirement already satisfied: biopython in c:\\users\\pbrin\\anaconda3\\lib\\site-packages (1.85)\n",
      "Requirement already satisfied: numpy in c:\\users\\pbrin\\anaconda3\\lib\\site-packages (from biopython) (1.26.4)\n",
      "^C\n"
     ]
    }
   ],
   "source": [
    "#  With pip\n",
    "!pip install biopython\n",
    "\n",
    "# With conda (recommended channel)\n",
    "!conda install -c conda-forge biopython\n"
   ]
  },
  {
   "cell_type": "markdown",
   "id": "ce23dad9",
   "metadata": {},
   "source": [
    "## 2. Overview of Bio.Seq\n",
    "The Seq class represents a biological sequence and provides common operations:"
   ]
  },
  {
   "cell_type": "code",
   "execution_count": 67,
   "id": "0932a6f4",
   "metadata": {},
   "outputs": [
    {
     "name": "stdout",
     "output_type": "stream",
     "text": [
      "RevComp: CTAACGTACGCAT\n",
      "RNA   : AUGCGUACGUUAG\n",
      "Protein: MRTL\n",
      "Complement: TACGCATGCAATC\n",
      "Length    : 13\n"
     ]
    },
    {
     "name": "stderr",
     "output_type": "stream",
     "text": [
      "c:\\Users\\pbrin\\anaconda3\\Lib\\site-packages\\Bio\\Seq.py:2879: BiopythonWarning: Partial codon, len(sequence) not a multiple of three. Explicitly trim the sequence or add trailing N before translation. This may become an error in future.\n",
      "  warnings.warn(\n"
     ]
    }
   ],
   "source": [
    "from Bio.Seq import Seq\n",
    "\n",
    "# Create a sequence\n",
    "dna = Seq(\"ATGCGTACGTTAG\")\n",
    "\n",
    "# Reverse complement\n",
    "print(\"RevComp:\", dna.reverse_complement())\n",
    "\n",
    "# Transcription (DNA → RNA)\n",
    "print(\"RNA   :\", dna.transcribe())\n",
    "\n",
    "# Translation (to protein)\n",
    "print(\"Protein:\", dna.translate())\n",
    "\n",
    "# Other utilities\n",
    "print(\"Complement:\", dna.complement())\n",
    "print(\"Length    :\", len(dna))\n"
   ]
  },
  {
   "cell_type": "markdown",
   "id": "b47d79ce",
   "metadata": {},
   "source": [
    "## Use Seq when you need to:\n",
    "\n",
    "Manipulate nucleic acid or protein sequences\n",
    "\n",
    "Compute reverse complements, transcription, or translation\n",
    "\n",
    "Leverage Biopython’s built-in alphabets and validation"
   ]
  },
  {
   "cell_type": "markdown",
   "id": "8aa8e478",
   "metadata": {},
   "source": []
  },
  {
   "cell_type": "code",
   "execution_count": 68,
   "id": "20f2110a",
   "metadata": {},
   "outputs": [
    {
     "ename": "FileNotFoundError",
     "evalue": "[Errno 2] No such file or directory: 'sample.fasta'",
     "output_type": "error",
     "traceback": [
      "\u001b[1;31m---------------------------------------------------------------------------\u001b[0m",
      "\u001b[1;31mFileNotFoundError\u001b[0m                         Traceback (most recent call last)",
      "Cell \u001b[1;32mIn[68], line 4\u001b[0m\n\u001b[0;32m      1\u001b[0m \u001b[38;5;28;01mfrom\u001b[39;00m \u001b[38;5;21;01mBio\u001b[39;00m \u001b[38;5;28;01mimport\u001b[39;00m SeqIO\n\u001b[0;32m      3\u001b[0m \u001b[38;5;66;03m# Parsing a FASTA file\u001b[39;00m\n\u001b[1;32m----> 4\u001b[0m \u001b[38;5;28;01mfor\u001b[39;00m record \u001b[38;5;129;01min\u001b[39;00m SeqIO\u001b[38;5;241m.\u001b[39mparse(\u001b[38;5;124m\"\u001b[39m\u001b[38;5;124msample.fasta\u001b[39m\u001b[38;5;124m\"\u001b[39m, \u001b[38;5;124m\"\u001b[39m\u001b[38;5;124mfasta\u001b[39m\u001b[38;5;124m\"\u001b[39m):\n\u001b[0;32m      5\u001b[0m     \u001b[38;5;28mprint\u001b[39m(\u001b[38;5;124mf\u001b[39m\u001b[38;5;124m\"\u001b[39m\u001b[38;5;124m>\u001b[39m\u001b[38;5;132;01m{\u001b[39;00mrecord\u001b[38;5;241m.\u001b[39mid\u001b[38;5;132;01m}\u001b[39;00m\u001b[38;5;124m  length=\u001b[39m\u001b[38;5;132;01m{\u001b[39;00m\u001b[38;5;28mlen\u001b[39m(record\u001b[38;5;241m.\u001b[39mseq)\u001b[38;5;132;01m}\u001b[39;00m\u001b[38;5;124m\"\u001b[39m)\n\u001b[0;32m      6\u001b[0m     \u001b[38;5;66;03m# record.seq is a Seq object\u001b[39;00m\n\u001b[0;32m      7\u001b[0m \n\u001b[0;32m      8\u001b[0m \u001b[38;5;66;03m# Writing records back out\u001b[39;00m\n",
      "File \u001b[1;32mc:\\Users\\pbrin\\anaconda3\\Lib\\site-packages\\Bio\\SeqIO\\__init__.py:626\u001b[0m, in \u001b[0;36mparse\u001b[1;34m(handle, format, alphabet)\u001b[0m\n\u001b[0;32m    624\u001b[0m iterator_generator \u001b[38;5;241m=\u001b[39m _FormatToIterator\u001b[38;5;241m.\u001b[39mget(\u001b[38;5;28mformat\u001b[39m)\n\u001b[0;32m    625\u001b[0m \u001b[38;5;28;01mif\u001b[39;00m iterator_generator:\n\u001b[1;32m--> 626\u001b[0m     \u001b[38;5;28;01mreturn\u001b[39;00m iterator_generator(handle)\n\u001b[0;32m    627\u001b[0m \u001b[38;5;28;01mif\u001b[39;00m \u001b[38;5;28mformat\u001b[39m \u001b[38;5;129;01min\u001b[39;00m AlignIO\u001b[38;5;241m.\u001b[39m_FormatToIterator:\n\u001b[0;32m    628\u001b[0m     \u001b[38;5;66;03m# Use Bio.AlignIO to read in the alignments\u001b[39;00m\n\u001b[0;32m    629\u001b[0m     \u001b[38;5;28;01mreturn\u001b[39;00m (r \u001b[38;5;28;01mfor\u001b[39;00m alignment \u001b[38;5;129;01min\u001b[39;00m AlignIO\u001b[38;5;241m.\u001b[39mparse(handle, \u001b[38;5;28mformat\u001b[39m) \u001b[38;5;28;01mfor\u001b[39;00m r \u001b[38;5;129;01min\u001b[39;00m alignment)\n",
      "File \u001b[1;32mc:\\Users\\pbrin\\anaconda3\\Lib\\site-packages\\Bio\\SeqIO\\FastaIO.py:196\u001b[0m, in \u001b[0;36mFastaIterator.__init__\u001b[1;34m(self, source, alphabet)\u001b[0m\n\u001b[0;32m    194\u001b[0m \u001b[38;5;28;01mif\u001b[39;00m alphabet \u001b[38;5;129;01mis\u001b[39;00m \u001b[38;5;129;01mnot\u001b[39;00m \u001b[38;5;28;01mNone\u001b[39;00m:\n\u001b[0;32m    195\u001b[0m     \u001b[38;5;28;01mraise\u001b[39;00m \u001b[38;5;167;01mValueError\u001b[39;00m(\u001b[38;5;124m\"\u001b[39m\u001b[38;5;124mThe alphabet argument is no longer supported\u001b[39m\u001b[38;5;124m\"\u001b[39m)\n\u001b[1;32m--> 196\u001b[0m \u001b[38;5;28msuper\u001b[39m()\u001b[38;5;241m.\u001b[39m\u001b[38;5;21m__init__\u001b[39m(source, fmt\u001b[38;5;241m=\u001b[39m\u001b[38;5;124m\"\u001b[39m\u001b[38;5;124mFasta\u001b[39m\u001b[38;5;124m\"\u001b[39m)\n\u001b[0;32m    197\u001b[0m \u001b[38;5;28;01mtry\u001b[39;00m:\n\u001b[0;32m    198\u001b[0m     line \u001b[38;5;241m=\u001b[39m \u001b[38;5;28mnext\u001b[39m(\u001b[38;5;28mself\u001b[39m\u001b[38;5;241m.\u001b[39mstream)\n",
      "File \u001b[1;32mc:\\Users\\pbrin\\anaconda3\\Lib\\site-packages\\Bio\\SeqIO\\Interfaces.py:81\u001b[0m, in \u001b[0;36mSequenceIterator.__init__\u001b[1;34m(self, source, alphabet, fmt)\u001b[0m\n\u001b[0;32m     79\u001b[0m \u001b[38;5;28;01mif\u001b[39;00m \u001b[38;5;28misinstance\u001b[39m(source, _PathLikeTypes):\n\u001b[0;32m     80\u001b[0m     mode \u001b[38;5;241m=\u001b[39m modes[\u001b[38;5;241m0\u001b[39m]\n\u001b[1;32m---> 81\u001b[0m     \u001b[38;5;28mself\u001b[39m\u001b[38;5;241m.\u001b[39mstream \u001b[38;5;241m=\u001b[39m \u001b[38;5;28mopen\u001b[39m(source, \u001b[38;5;124m\"\u001b[39m\u001b[38;5;124mr\u001b[39m\u001b[38;5;124m\"\u001b[39m \u001b[38;5;241m+\u001b[39m mode)\n\u001b[0;32m     82\u001b[0m \u001b[38;5;28;01melse\u001b[39;00m:\n\u001b[0;32m     83\u001b[0m     value \u001b[38;5;241m=\u001b[39m source\u001b[38;5;241m.\u001b[39mread(\u001b[38;5;241m0\u001b[39m)\n",
      "\u001b[1;31mFileNotFoundError\u001b[0m: [Errno 2] No such file or directory: 'sample.fasta'"
     ]
    }
   ],
   "source": [
    "from Bio import SeqIO\n",
    "\n",
    "# Parsing a FASTA file\n",
    "for record in SeqIO.parse(\"sample.fasta\", \"fasta\"):\n",
    "    print(f\">{record.id}  length={len(record.seq)}\")\n",
    "    # record.seq is a Seq object\n",
    "\n",
    "# Writing records back out\n",
    "records = list(SeqIO.parse(\"sample.fasta\", \"fasta\"))\n",
    "SeqIO.write(records, \"subset.fasta\", \"fasta\")\n"
   ]
  },
  {
   "cell_type": "markdown",
   "id": "9fcca601",
   "metadata": {},
   "source": [
    "\n",
    "Why & When to Use Biopython\n",
    "Standardized APIs for sequence and file handling\n",
    "\n",
    "Rich ecosystem: integrates with alignment (Bio.Align), phylogenetics, population genetics, and structure modules\n",
    "\n",
    "Performance: optimized C-backed parsers under the hood\n",
    "\n",
    "Extensibility: easy to build your own parsers or extend record annotations\n",
    "\n",
    "Use Biopython when your workflow involves:\n",
    "\n",
    "Reading, writing, or converting between biological file formats\n",
    "\n",
    "Sequence manipulation beyond simple string slicing\n",
    "\n",
    "Building reproducible pipelines in genomics, transcriptomics, or proteomics\n",
    "\n"
   ]
  },
  {
   "cell_type": "markdown",
   "id": "fe229054",
   "metadata": {},
   "source": [
    "# 🧬 Working with `Seq` and `MutableSeq`\n",
    "\n",
    "Biopython provides two core sequence classes:\n",
    "\n",
    "- **`Seq`**: immutable sequence  \n",
    "- **`MutableSeq`**: mutable sequence for in-place edits\n",
    "\n",
    "---\n",
    "\n",
    "## 1. Creating `Seq` and `MutableSeq`\n",
    "\n",
    "```python\n",
    "\n"
   ]
  },
  {
   "cell_type": "code",
   "execution_count": 69,
   "id": "903b9102",
   "metadata": {},
   "outputs": [
    {
     "name": "stdout",
     "output_type": "stream",
     "text": [
      "Modified: ATGGCTATTGTAATGGGCCGCTGAAAGGGTGCCCGATAG\n"
     ]
    }
   ],
   "source": [
    "from Bio.Seq import Seq, MutableSeq\n",
    "\n",
    "# Immutable Seq (cannot be changed)\n",
    "dna_seq = Seq(\"ATGGCCATTGTAATGGGCCGCTGAAAGGGTGCCCGATAG\")\n",
    "\n",
    "# MutableSeq (you can modify individual bases)\n",
    "mutable_seq = MutableSeq(\"ATGGCCATTGTAATGGGCCGCTGAAAGGGTGCCCGATAG\")\n",
    "mutable_seq[5] = \"T\"    # change base at index 5\n",
    "print(\"Modified:\", mutable_seq)"
   ]
  },
  {
   "cell_type": "markdown",
   "id": "bc91106f",
   "metadata": {},
   "source": [
    "## 2. Common Methods"
   ]
  },
  {
   "cell_type": "code",
   "execution_count": 71,
   "id": "60347cfe",
   "metadata": {},
   "outputs": [
    {
     "name": "stdout",
     "output_type": "stream",
     "text": [
      "Complement:        TACCGGTAACATTACCCGGCGACTTTCCCACGGGCTATC\n",
      "Reverse complement: CTATCGGGCACCCTTTCAGCGGCCCATTACAATGGCCAT\n",
      "Protein sequence:   MAIVMGR*KGAR*\n"
     ]
    }
   ],
   "source": [
    "# Complement: swap A↔T, C↔G\n",
    "print(\"Complement:       \", dna_seq.complement())\n",
    "\n",
    "# Reverse complement: flip + complement\n",
    "print(\"Reverse complement:\", dna_seq.reverse_complement())\n",
    "\n",
    "# Translation: DNA → protein (uses standard codon table)\n",
    "protein = dna_seq.translate()\n",
    "print(\"Protein sequence:  \", protein)\n"
   ]
  },
  {
   "cell_type": "markdown",
   "id": "aba1806a",
   "metadata": {},
   "source": [
    "## 3. Example: Translating a Healthcare Gene Sequence\n",
    "Imagine you have the coding sequence of the human BRCA1 exon:"
   ]
  },
  {
   "cell_type": "code",
   "execution_count": 72,
   "id": "c6425a23",
   "metadata": {},
   "outputs": [
    {
     "name": "stdout",
     "output_type": "stream",
     "text": [
      "BRCA1 protein fragment: MDFCSTEEAAAP\n"
     ]
    }
   ],
   "source": [
    "brca1_exon = Seq(\n",
    "    \"ATGGATTTCTGTTCTACCGAGGAGGCGGCGGCGCCG\"  # truncated example\n",
    ")\n",
    "protein = brca1_exon.translate(to_stop=True)\n",
    "print(\"BRCA1 protein fragment:\", protein)\n"
   ]
  },
  {
   "cell_type": "markdown",
   "id": "3d65a365",
   "metadata": {},
   "source": [
    "# 📊 DataFrame Creation & Inspection\n",
    "\n",
    "```python\n"
   ]
  },
  {
   "cell_type": "code",
   "execution_count": 73,
   "id": "8638d739",
   "metadata": {},
   "outputs": [
    {
     "name": "stdout",
     "output_type": "stream",
     "text": [
      "    gene sample  expression\n",
      "0   TP53     S1        12.5\n",
      "1  BRCA1     S1         8.3\n",
      "2   TP53     S2        10.2\n",
      "3   EGFR     S2        15.2\n",
      "4  BRCA1     S3         9.1\n",
      "<class 'pandas.core.frame.DataFrame'>\n",
      "RangeIndex: 6 entries, 0 to 5\n",
      "Data columns (total 3 columns):\n",
      " #   Column      Non-Null Count  Dtype  \n",
      "---  ------      --------------  -----  \n",
      " 0   gene        6 non-null      object \n",
      " 1   sample      6 non-null      object \n",
      " 2   expression  6 non-null      float64\n",
      "dtypes: float64(1), object(2)\n",
      "memory usage: 276.0+ bytes\n",
      "None\n",
      "       expression\n",
      "count    6.000000\n",
      "mean    11.683333\n",
      "std      2.934905\n",
      "min      8.300000\n",
      "25%      9.375000\n",
      "50%     11.350000\n",
      "75%     14.225000\n",
      "max     15.200000\n"
     ]
    }
   ],
   "source": [
    "import pandas as pd\n",
    "\n",
    "# 1. Create a simple gene expression table\n",
    "data = {\n",
    "    \"gene\":       [\"TP53\", \"BRCA1\", \"TP53\", \"EGFR\",  \"BRCA1\", \"EGFR\"],\n",
    "    \"sample\":     [\"S1\",   \"S1\",    \"S2\",   \"S2\",   \"S3\",    \"S3\"],\n",
    "    \"expression\": [12.5,   8.3,     10.2,   15.2,   9.1,     14.8]\n",
    "}\n",
    "\n",
    "df = pd.DataFrame(data)\n",
    "\n",
    "# 2. Quick inspection\n",
    "print(df.head())      # first five rows\n",
    "print(df.info())      # dtypes and non-null counts\n",
    "print(df.describe())  # summary statistics for numeric columns\n"
   ]
  },
  {
   "cell_type": "markdown",
   "id": "6e86ae2b",
   "metadata": {},
   "source": [
    "# 🔍 Filtering, Grouping & Summarizing Biological Metrics"
   ]
  },
  {
   "cell_type": "code",
   "execution_count": 74,
   "id": "897e8107",
   "metadata": {},
   "outputs": [
    {
     "name": "stdout",
     "output_type": "stream",
     "text": [
      "High expression samples:\n",
      "    gene sample  expression\n",
      "0  TP53     S1        12.5\n",
      "2  TP53     S2        10.2\n",
      "3  EGFR     S2        15.2\n",
      "5  EGFR     S3        14.8\n",
      "\n",
      "Expression summary by gene:\n",
      "     gene  mean_expression  median_expression  count_samples\n",
      "0  BRCA1             8.70               8.70              2\n",
      "1   EGFR            15.00              15.00              2\n",
      "2   TP53            11.35              11.35              2\n",
      "\n",
      "Pivot table (gene × sample):\n",
      " sample    S1    S2    S3\n",
      "gene                    \n",
      "BRCA1    8.3   NaN   9.1\n",
      "EGFR     NaN  15.2  14.8\n",
      "TP53    12.5  10.2   NaN\n"
     ]
    }
   ],
   "source": [
    "# 1. Filtering: select highly expressed entries (>10 TPM)\n",
    "high_expr = df[df[\"expression\"] > 10.0]\n",
    "print(\"High expression samples:\\n\", high_expr)\n",
    "\n",
    "# 2. Grouping: aggregate by gene\n",
    "grouped = (\n",
    "    df\n",
    "    .groupby(\"gene\")[\"expression\"]\n",
    "    .agg(\n",
    "        mean_expression=\"mean\",\n",
    "        median_expression=\"median\",\n",
    "        count_samples=\"count\"\n",
    "    )\n",
    "    .reset_index()\n",
    ")\n",
    "print(\"\\nExpression summary by gene:\\n\", grouped)\n",
    "\n",
    "# 3. Pivot for matrix-style view (genes × samples)\n",
    "pivot = df.pivot(index=\"gene\", columns=\"sample\", values=\"expression\")\n",
    "print(\"\\nPivot table (gene × sample):\\n\", pivot)\n"
   ]
  },
  {
   "cell_type": "markdown",
   "id": "1a048def",
   "metadata": {},
   "source": [
    "# 🧪 Use Case: Comparing Conditions"
   ]
  },
  {
   "cell_type": "code",
   "execution_count": 75,
   "id": "69612342",
   "metadata": {},
   "outputs": [
    {
     "name": "stdout",
     "output_type": "stream",
     "text": [
      "\n",
      "Average expression per gene by condition:\n",
      " condition   gene  control  treatment\n",
      "0          BRCA1      8.7        0.0\n",
      "1           EGFR      0.0       15.0\n",
      "2           TP53     12.5       10.2\n"
     ]
    }
   ],
   "source": [
    "# Extend the dataset with a treatment/control label\n",
    "df[\"condition\"] = [\"control\", \"control\", \"treatment\", \"treatment\", \"control\", \"treatment\"]\n",
    "\n",
    "# Group by gene and condition, compute average expression\n",
    "cond_summary = (\n",
    "    df\n",
    "    .groupby([\"gene\", \"condition\"])[\"expression\"]\n",
    "    .mean()\n",
    "    .unstack(fill_value=0)\n",
    "    .reset_index()\n",
    ")\n",
    "print(\"\\nAverage expression per gene by condition:\\n\", cond_summary)\n"
   ]
  },
  {
   "cell_type": "markdown",
   "id": "70e6d12c",
   "metadata": {},
   "source": []
  },
  {
   "cell_type": "markdown",
   "id": "11560175",
   "metadata": {},
   "source": [
    "# 🔢 NumPy `ndarray` Basics\n",
    "\n",
    "```python\n"
   ]
  },
  {
   "cell_type": "code",
   "execution_count": 76,
   "id": "9846f30a",
   "metadata": {},
   "outputs": [
    {
     "name": "stdout",
     "output_type": "stream",
     "text": [
      "Shape (genes×samples): (3, 4)\n",
      "Gene 1, Sample 2: 200\n",
      "First gene across all samples: [100 200 150 120]\n",
      "All genes, Sample 3: [150  90  30]\n"
     ]
    }
   ],
   "source": [
    "import numpy as np\n",
    "\n",
    "# 1. Create a 2D array (e.g., gene counts for 3 genes × 4 samples)\n",
    "counts = np.array([\n",
    "    [100, 200, 150, 120],\n",
    "    [ 80,  60,  90,  75],\n",
    "    [ 50,  40,  30,  20]\n",
    "])\n",
    "\n",
    "# 2. Inspect shape\n",
    "print(\"Shape (genes×samples):\", counts.shape)   # (3, 4)\n",
    "\n",
    "# 3. Indexing\n",
    "print(\"Gene 1, Sample 2:\", counts[0, 1])       # 200\n",
    "print(\"First gene across all samples:\", counts[0, :])\n",
    "print(\"All genes, Sample 3:\", counts[:, 2])\n"
   ]
  },
  {
   "cell_type": "markdown",
   "id": "759b736b",
   "metadata": {},
   "source": [
    "# ⚡ Vectorized Computations"
   ]
  },
  {
   "cell_type": "code",
   "execution_count": 77,
   "id": "15a3c6d7",
   "metadata": {},
   "outputs": [
    {
     "name": "stdout",
     "output_type": "stream",
     "text": [
      "Log-transformed:\n",
      " [[4.61512052 5.30330491 5.01727984 4.79579055]\n",
      " [4.39444915 4.11087386 4.51085951 4.33073334]\n",
      " [3.93182563 3.71357207 3.4339872  3.04452244]]\n",
      "Z-scores:\n",
      " [[-1.23661341  1.44162057  0.32848567 -0.53349283]\n",
      " [ 0.39665891 -1.55209885  1.19664248 -0.04120254]\n",
      " [ 1.20851445  0.55050427 -0.29241293 -1.46660579]]\n"
     ]
    }
   ],
   "source": [
    "# Log-transform counts (add 1 to avoid log(0))\n",
    "log_counts = np.log1p(counts)\n",
    "print(\"Log-transformed:\\n\", log_counts)\n",
    "\n",
    "# Example: converting to z-scores per gene\n",
    "means = log_counts.mean(axis=1, keepdims=True)\n",
    "stds  = log_counts.std(axis=1, keepdims=True)\n",
    "z_scores = (log_counts - means) / stds\n",
    "print(\"Z-scores:\\n\", z_scores)\n"
   ]
  },
  {
   "cell_type": "markdown",
   "id": "c038c535",
   "metadata": {},
   "source": [
    "# 📐 Use Case: Adjacency & Distance Matrices\n"
   ]
  },
  {
   "cell_type": "code",
   "execution_count": 78,
   "id": "636a270f",
   "metadata": {},
   "outputs": [
    {
     "name": "stdout",
     "output_type": "stream",
     "text": [
      "Adjacency (samples×samples):\n",
      " [[False False False False]\n",
      " [False  True  True False]\n",
      " [False  True  True False]\n",
      " [False False False False]]\n",
      "Sample–sample distances:\n",
      " [[0.         0.77565928 0.65048181 0.90774904]\n",
      " [0.77565928 0.         0.56565586 0.86806476]\n",
      " [0.65048181 0.56565586 0.         0.4828931 ]\n",
      " [0.90774904 0.86806476 0.4828931  0.        ]]\n"
     ]
    }
   ],
   "source": [
    "# Build a simple adjacency: samples are “connected” if log-count > threshold\n",
    "threshold = 5.0\n",
    "adjacency = (log_counts.T > threshold).astype(int)\n",
    "# adjacency[i,j] = 1 if sample i and sample j both have at least one gene above threshold\n",
    "print(\"Adjacency (samples×samples):\\n\", adjacency.dot(adjacency.T) > 0)\n",
    "\n",
    "# Euclidean distance between samples\n",
    "from scipy.spatial import distance_matrix\n",
    "dist = distance_matrix(log_counts.T, log_counts.T)\n",
    "print(\"Sample–sample distances:\\n\", dist)\n"
   ]
  },
  {
   "cell_type": "markdown",
   "id": "d09b5f84",
   "metadata": {},
   "source": [
    "# Zen of Python"
   ]
  },
  {
   "cell_type": "markdown",
   "id": "98b734b3",
   "metadata": {},
   "source": [
    "Beautiful is better than ugly; Explicit is better than implicit; Simple is better than complex; Complex is better than complicated; Flat is better than nested; Sparse is better than dense; Readability counts; Special cases aren’t special enough to break the rules; Although practicality beats purity; Errors should never pass silently; Unless explicitly silenced; In the face of ambiguity, refuse the temptation to guess; There should be one—and preferably only one—obvious way to do it; Although that way may not be obvious at first unless you’re Dutch; Now is better than never; Although never is often better than right now; If the implementation is hard to explain, it’s a bad idea; If the implementation is easy to explain, it may be a good idea; Namespaces are one honking great idea—let’s do more of those."
   ]
  },
  {
   "cell_type": "code",
   "execution_count": null,
   "id": "47c7264f",
   "metadata": {},
   "outputs": [],
   "source": []
  },
  {
   "cell_type": "markdown",
   "id": "5df8d67a",
   "metadata": {},
   "source": []
  }
 ],
 "metadata": {
  "kernelspec": {
   "display_name": "base",
   "language": "python",
   "name": "python3"
  },
  "language_info": {
   "codemirror_mode": {
    "name": "ipython",
    "version": 3
   },
   "file_extension": ".py",
   "mimetype": "text/x-python",
   "name": "python",
   "nbconvert_exporter": "python",
   "pygments_lexer": "ipython3",
   "version": "3.12.7"
  }
 },
 "nbformat": 4,
 "nbformat_minor": 5
}
